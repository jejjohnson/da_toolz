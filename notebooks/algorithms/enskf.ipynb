{
 "cells": [
  {
   "cell_type": "markdown",
   "id": "783dacce-6eef-4504-ba8c-4e17fcbf38df",
   "metadata": {},
   "source": [
    "# Ensemble Kalman Filters"
   ]
  },
  {
   "cell_type": "code",
   "execution_count": 76,
   "id": "87d4d0cb-e3d6-4eb7-bf8f-d046dfd25ead",
   "metadata": {
    "tags": []
   },
   "outputs": [
    {
     "name": "stdout",
     "output_type": "stream",
     "text": [
      "The autoreload extension is already loaded. To reload it, use:\n",
      "  %reload_ext autoreload\n"
     ]
    }
   ],
   "source": [
    "import autoroot\n",
    "from pathlib import Path\n",
    "import numpyro\n",
    "import numpyro.distributions as dist\n",
    "from jax import config\n",
    "config.update(\"jax_enable_x64\", True)\n",
    "import einx\n",
    "import jax\n",
    "import jax.numpy as jnp\n",
    "import numpy as np\n",
    "import jax.random as jr\n",
    "import xarray as xr\n",
    "from jaxtyping import Float, Array\n",
    "import cola\n",
    "from oi_toolz._src.ops.kernels import kernel_rbf, gram\n",
    "from cola.linalg import Auto\n",
    "from oi_toolz._src.ops.enskf import analysis_etkf\n",
    "\n",
    "key = jr.key(123)\n",
    "\n",
    "import matplotlib.pyplot as plt\n",
    "import seaborn as sns\n",
    "sns.reset_defaults()\n",
    "sns.set_context(context=\"talk\", font_scale=0.75)\n",
    "\n",
    "\n",
    "%matplotlib inline\n",
    "\n",
    "%load_ext autoreload\n",
    "%autoreload 2"
   ]
  },
  {
   "cell_type": "markdown",
   "id": "e767f938-350d-4c34-8234-602294d9ec7c",
   "metadata": {},
   "source": [
    "## Data"
   ]
  },
  {
   "cell_type": "code",
   "execution_count": 103,
   "id": "e23e1d47-fd56-4e5b-8b09-fd2a1133e313",
   "metadata": {
    "tags": []
   },
   "outputs": [
    {
     "data": {
      "text/plain": [
       "((55296, 100), (293, 100), (293,), (293,))"
      ]
     },
     "execution_count": 103,
     "metadata": {},
     "output_type": "execute_result"
    }
   ],
   "source": [
    "save_dir = Path(\"/Users/eman/code_projects/data/enskf\")\n",
    "Y = np.load(save_dir.joinpath(\"Y.npy\"), allow_pickle=True)\n",
    "R = np.load(save_dir.joinpath(\"R.npy\"), allow_pickle=True)\n",
    "Xf = np.load(save_dir.joinpath(\"Xf.npz\"), allow_pickle=True)[\"arr_0\"]\n",
    "Yf = np.load(save_dir.joinpath(\"HXf.npy\"), allow_pickle=True)\n",
    "\n",
    "Xf.shape, Yf.shape, Y.shape, R.shape"
   ]
  },
  {
   "cell_type": "code",
   "execution_count": 104,
   "id": "8412778d-8cc6-4f1a-9ae4-464de14eacda",
   "metadata": {
    "tags": []
   },
   "outputs": [],
   "source": [
    "def ETKF(Xf, HXf, Y, R):\n",
    "    \"\"\"\n",
    "    Implementation adapted from pseudocode description in\n",
    "    \"State-of-the-art stochastic data assimialation methods\" by Vetra-Carvalho et al. (2018),\n",
    "    algorithm 7, see section 5.4.\n",
    "    Errors: Calculation of W1 prime, divide by square root of eigenvalues. The mathematical formula in the paper has an error already.\n",
    "    \n",
    "    Dimensions: N_e: ensemble size, N_y: Number of observations: N_x: State vector size (Gridboxes x assimilated variables)\n",
    "    \n",
    "    Input:\n",
    "    - Xf:  the prior ensemble (N_x x N_y) \n",
    "    - R: Measurement Error (Variance of pseudoproxy timerseries) ($N_y$ x 1$) -> converted to Ny x Ny matrix\n",
    "    - HX^f: Model value projected into observation space/at proxy locations ($N_y$ x $N_e$)\n",
    "    - Y: Observation vector ($N_y$ x 1)\n",
    "\n",
    "    Output:\n",
    "    - Analysis ensemble (N_x, N_e)\n",
    "    \"\"\"\n",
    "    # number of ensemble members\n",
    "    Ne=np.shape(Xf)[1]\n",
    "\n",
    "    #Obs error matrix\n",
    "    #Rmat=np.diag(R)\n",
    "    Rmat_inv=np.diag(1/R)\n",
    "    #Mean of prior ensemble for each gridbox   \n",
    "    mX = np.mean(Xf, axis=1)\n",
    "    #Perturbations from ensemble mean\n",
    "    Xfp=Xf-mX[:,None]\n",
    "    #Mean and perturbations for model values in observation space\n",
    "    mY = np.mean(HXf, axis=1)\n",
    "    HXp = HXf-mY[:,None]\n",
    "    \n",
    "\n",
    "    C=Rmat_inv @ HXp\n",
    "    A1=(Ne-1)*np.identity(Ne)\n",
    "    A2=A1 + (HXp.T @ C)\n",
    "    \n",
    "\n",
    "    #eigenvalue decomposition of A2, A2 is symmetric\n",
    "    eigs, ev = np.linalg.eigh(A2) \n",
    "\n",
    "    #compute perturbations\n",
    "    Wp1 = np.diag(np.sqrt(1/eigs)) @ ev .T\n",
    "    Wp = ev @ Wp1 * np.sqrt(Ne-1)\n",
    "\n",
    "\n",
    "    #differing from pseudocode\n",
    "    d=Y-mY\n",
    "    D1 = Rmat_inv @ d\n",
    "    D2 = HXp.T @ D1\n",
    "    wm=ev @ np.diag(1/eigs) @ ev.T @ D2  #/ np.sqrt(Ne-1) \n",
    "\n",
    "    #adding pert and mean (!row-major formulation in Python!)\n",
    "    W=Wp + wm[:,None]\n",
    "\n",
    "    #final adding up (most costly operation)\n",
    "    Xa=mX[:,None] + Xfp @ W\n",
    "\n",
    "    return Xa"
   ]
  },
  {
   "cell_type": "code",
   "execution_count": 105,
   "id": "25a22e09-e8fd-431f-b269-a5854d859a4e",
   "metadata": {
    "tags": []
   },
   "outputs": [
    {
     "data": {
      "text/plain": [
       "array([225.77951468, 225.75510173, 225.75508779, ..., 252.08298075,\n",
       "       252.08490147, 252.08658989])"
      ]
     },
     "execution_count": 105,
     "metadata": {},
     "output_type": "execute_result"
    }
   ],
   "source": [
    "out1 = ETKF(Xf, Yf, Y, R)\n",
    "np.mean(out1, axis=1)"
   ]
  },
  {
   "cell_type": "code",
   "execution_count": 106,
   "id": "bc26cf4e-04b1-489b-a344-0b3502116235",
   "metadata": {
    "tags": []
   },
   "outputs": [
    {
     "data": {
      "text/plain": [
       "Array([225.77951468, 225.75510173, 225.75508779, ..., 252.08298075,\n",
       "       252.08490147, 252.08658989], dtype=float64)"
      ]
     },
     "execution_count": 106,
     "metadata": {},
     "output_type": "execute_result"
    }
   ],
   "source": [
    "out2 = analysis_etkf(Xf, Yf, Y, cola.ops.Diagonal(R))\n",
    "np.mean(out2, axis=1)"
   ]
  },
  {
   "cell_type": "code",
   "execution_count": 107,
   "id": "a889409f-5676-45fc-ac38-d21645415990",
   "metadata": {
    "tags": []
   },
   "outputs": [],
   "source": [
    "np.testing.assert_array_almost_equal(out1, out2)"
   ]
  },
  {
   "cell_type": "code",
   "execution_count": 108,
   "id": "25da6329-6f97-42aa-a0d8-f3e2f5e10c73",
   "metadata": {
    "tags": []
   },
   "outputs": [
    {
     "name": "stdout",
     "output_type": "stream",
     "text": [
      "33.9 ms ± 4.38 ms per loop (mean ± std. dev. of 7 runs, 10 loops each)\n"
     ]
    }
   ],
   "source": [
    "%%timeit\n",
    "ETKF(Xf, Yf, Y, R)"
   ]
  },
  {
   "cell_type": "code",
   "execution_count": 109,
   "id": "651df664-a79b-4ded-9086-2590374287d1",
   "metadata": {
    "tags": []
   },
   "outputs": [
    {
     "name": "stdout",
     "output_type": "stream",
     "text": [
      "48.8 ms ± 351 µs per loop (mean ± std. dev. of 7 runs, 10 loops each)\n"
     ]
    }
   ],
   "source": [
    "%%timeit\n",
    "analysis_etkf(Xf, Yf, Y, cola.ops.Diagonal(R))"
   ]
  },
  {
   "cell_type": "code",
   "execution_count": 97,
   "id": "2e48c975-b323-4e2a-8b2b-4c9af1b4314e",
   "metadata": {
    "tags": []
   },
   "outputs": [
    {
     "data": {
      "text/plain": [
       "(500, 250)"
      ]
     },
     "execution_count": 97,
     "metadata": {},
     "output_type": "execute_result"
    }
   ],
   "source": [
    "# inverse R\n",
    "R_inv: Float[Array, \"Dy Dy\"] = cola.inv(R)\n",
    "\n",
    "# Mean of prior ensemble for each gridbox \n",
    "mu_Xf: Float[Array, \"Dx\"] = jnp.mean(Xf.to_dense(), axis=0)\n",
    "\n",
    "# perturbations from ensuemble mean\n",
    "Xfp: Float[Array, \"Ne Dx\"] = einx.multiply(\"Ne Dx, Dx -> Ne Dx\", Xf.to_dense(), mu_Xf)\n",
    "\n",
    "# mean of predictions\n",
    "mu_Yf: Float[Array, \"Dy\"] = jnp.mean(Yf.to_dense(), axis=0)\n",
    "\n",
    "# perturbations from ensemble mean\n",
    "Yfp: Float[Array, \"Ne Dy\"] = cola.ops.Dense(einx.multiply(\"Ne Dy, Dy -> Ne Dy\", Yf.to_dense(), mu_Yf))\n",
    "\n",
    "# conditional covariance\n",
    "A: Float[Array, \"Ne Ne\"] = Yfp @ R_inv @ Yfp.T\n",
    "A += (num_ensembles - 1) * cola.ops.I_like(A)\n",
    "\n",
    "# eigenvalue decomposition\n",
    "eigvals, eigvecs = cola.linalg.eig(A, k=num_ensembles, alg=Auto())\n",
    "\n",
    "# compute perturbation\n",
    "Wp: Float[Array, \"Ne Ne\"] = jnp.sqrt(num_ensembles - 1) * eigvecs @ cola.ops.Diagonal(jnp.sqrt(1/eigvals)) @ eigvecs .T\n",
    "\n",
    "# calculate innovation\n",
    "innovation: Float[Array, \"Ne Ne\"] = Y - mu_Yf\n",
    "\n",
    "# calculate weighted perturbation\n",
    "Wm = eigvecs @ cola.ops.Diagonal(jnp.sqrt(1/eigvals)) @ eigvecs.T @ Yfp @ R_inv @ innovation\n",
    "W: Float[Array, \"Ne Ne\"] = einx.multiply(\"Ne Nb, Nb -> Ne Nb\", Wp.to_dense(), Wm)\n",
    "\n",
    "# calculate analysis\n",
    "# X_correction = einx.multiply(\"N D, N M -> N D\", Xfp, W.astype(jnp.float64))\n",
    "X_correction = jnp.einsum(\"ND,NM->ND\", Xfp, W.real)\n",
    "\n",
    "X_analysis = mu_Xf + X_correction\n",
    "\n",
    "X_analysis.shape"
   ]
  },
  {
   "cell_type": "code",
   "execution_count": 98,
   "id": "08a8dca8-52e6-4c91-ac88-15de6dbaf36d",
   "metadata": {
    "tags": []
   },
   "outputs": [
    {
     "ename": "AssertionError",
     "evalue": "\nArrays are not almost equal to 6 decimals\n\nMismatched elements: 125000 / 125000 (100%)\nMax absolute difference: 115.16062195\nMax relative difference: 2242.9838023\n x: array([[-0.00812 , -0.008037, -0.008131, ..., -0.008075, -0.008288,\n        -0.008056],\n       [-0.095191, -0.096171, -0.095221, ..., -0.095374, -0.094894,...\n y: array([[  1.655195,  15.632597,   0.224739, ...,  -4.710851,  19.105776,\n        -24.890383],\n       [ -1.75347 ,  -0.349574,  -0.156994, ...,   1.281412,  -1.318782,...",
     "output_type": "error",
     "traceback": [
      "\u001b[0;31m---------------------------------------------------------------------------\u001b[0m",
      "\u001b[0;31mAssertionError\u001b[0m                            Traceback (most recent call last)",
      "Cell \u001b[0;32mIn[98], line 1\u001b[0m\n\u001b[0;32m----> 1\u001b[0m \u001b[43mnp\u001b[49m\u001b[38;5;241;43m.\u001b[39;49m\u001b[43mtesting\u001b[49m\u001b[38;5;241;43m.\u001b[39;49m\u001b[43massert_array_almost_equal\u001b[49m\u001b[43m(\u001b[49m\u001b[43mX_analysis\u001b[49m\u001b[38;5;241;43m.\u001b[39;49m\u001b[43mT\u001b[49m\u001b[43m,\u001b[49m\u001b[43m \u001b[49m\u001b[43mout\u001b[49m\u001b[43m)\u001b[49m\n",
      "File \u001b[0;32m~/miniconda3/envs/jax_eo_py311/lib/python3.11/contextlib.py:81\u001b[0m, in \u001b[0;36mContextDecorator.__call__.<locals>.inner\u001b[0;34m(*args, **kwds)\u001b[0m\n\u001b[1;32m     78\u001b[0m \u001b[38;5;129m@wraps\u001b[39m(func)\n\u001b[1;32m     79\u001b[0m \u001b[38;5;28;01mdef\u001b[39;00m \u001b[38;5;21minner\u001b[39m(\u001b[38;5;241m*\u001b[39margs, \u001b[38;5;241m*\u001b[39m\u001b[38;5;241m*\u001b[39mkwds):\n\u001b[1;32m     80\u001b[0m     \u001b[38;5;28;01mwith\u001b[39;00m \u001b[38;5;28mself\u001b[39m\u001b[38;5;241m.\u001b[39m_recreate_cm():\n\u001b[0;32m---> 81\u001b[0m         \u001b[38;5;28;01mreturn\u001b[39;00m \u001b[43mfunc\u001b[49m\u001b[43m(\u001b[49m\u001b[38;5;241;43m*\u001b[39;49m\u001b[43margs\u001b[49m\u001b[43m,\u001b[49m\u001b[43m \u001b[49m\u001b[38;5;241;43m*\u001b[39;49m\u001b[38;5;241;43m*\u001b[39;49m\u001b[43mkwds\u001b[49m\u001b[43m)\u001b[49m\n",
      "    \u001b[0;31m[... skipping hidden 1 frame]\u001b[0m\n",
      "File \u001b[0;32m~/miniconda3/envs/jax_eo_py311/lib/python3.11/contextlib.py:81\u001b[0m, in \u001b[0;36mContextDecorator.__call__.<locals>.inner\u001b[0;34m(*args, **kwds)\u001b[0m\n\u001b[1;32m     78\u001b[0m \u001b[38;5;129m@wraps\u001b[39m(func)\n\u001b[1;32m     79\u001b[0m \u001b[38;5;28;01mdef\u001b[39;00m \u001b[38;5;21minner\u001b[39m(\u001b[38;5;241m*\u001b[39margs, \u001b[38;5;241m*\u001b[39m\u001b[38;5;241m*\u001b[39mkwds):\n\u001b[1;32m     80\u001b[0m     \u001b[38;5;28;01mwith\u001b[39;00m \u001b[38;5;28mself\u001b[39m\u001b[38;5;241m.\u001b[39m_recreate_cm():\n\u001b[0;32m---> 81\u001b[0m         \u001b[38;5;28;01mreturn\u001b[39;00m \u001b[43mfunc\u001b[49m\u001b[43m(\u001b[49m\u001b[38;5;241;43m*\u001b[39;49m\u001b[43margs\u001b[49m\u001b[43m,\u001b[49m\u001b[43m \u001b[49m\u001b[38;5;241;43m*\u001b[39;49m\u001b[38;5;241;43m*\u001b[39;49m\u001b[43mkwds\u001b[49m\u001b[43m)\u001b[49m\n",
      "File \u001b[0;32m~/miniconda3/envs/jax_eo_py311/lib/python3.11/site-packages/numpy/testing/_private/utils.py:862\u001b[0m, in \u001b[0;36massert_array_compare\u001b[0;34m(comparison, x, y, err_msg, verbose, header, precision, equal_nan, equal_inf, strict)\u001b[0m\n\u001b[1;32m    858\u001b[0m         err_msg \u001b[38;5;241m+\u001b[39m\u001b[38;5;241m=\u001b[39m \u001b[38;5;124m'\u001b[39m\u001b[38;5;130;01m\\n\u001b[39;00m\u001b[38;5;124m'\u001b[39m \u001b[38;5;241m+\u001b[39m \u001b[38;5;124m'\u001b[39m\u001b[38;5;130;01m\\n\u001b[39;00m\u001b[38;5;124m'\u001b[39m\u001b[38;5;241m.\u001b[39mjoin(remarks)\n\u001b[1;32m    859\u001b[0m         msg \u001b[38;5;241m=\u001b[39m build_err_msg([ox, oy], err_msg,\n\u001b[1;32m    860\u001b[0m                             verbose\u001b[38;5;241m=\u001b[39mverbose, header\u001b[38;5;241m=\u001b[39mheader,\n\u001b[1;32m    861\u001b[0m                             names\u001b[38;5;241m=\u001b[39m(\u001b[38;5;124m'\u001b[39m\u001b[38;5;124mx\u001b[39m\u001b[38;5;124m'\u001b[39m, \u001b[38;5;124m'\u001b[39m\u001b[38;5;124my\u001b[39m\u001b[38;5;124m'\u001b[39m), precision\u001b[38;5;241m=\u001b[39mprecision)\n\u001b[0;32m--> 862\u001b[0m         \u001b[38;5;28;01mraise\u001b[39;00m \u001b[38;5;167;01mAssertionError\u001b[39;00m(msg)\n\u001b[1;32m    863\u001b[0m \u001b[38;5;28;01mexcept\u001b[39;00m \u001b[38;5;167;01mValueError\u001b[39;00m:\n\u001b[1;32m    864\u001b[0m     \u001b[38;5;28;01mimport\u001b[39;00m \u001b[38;5;21;01mtraceback\u001b[39;00m\n",
      "\u001b[0;31mAssertionError\u001b[0m: \nArrays are not almost equal to 6 decimals\n\nMismatched elements: 125000 / 125000 (100%)\nMax absolute difference: 115.16062195\nMax relative difference: 2242.9838023\n x: array([[-0.00812 , -0.008037, -0.008131, ..., -0.008075, -0.008288,\n        -0.008056],\n       [-0.095191, -0.096171, -0.095221, ..., -0.095374, -0.094894,...\n y: array([[  1.655195,  15.632597,   0.224739, ...,  -4.710851,  19.105776,\n        -24.890383],\n       [ -1.75347 ,  -0.349574,  -0.156994, ...,   1.281412,  -1.318782,..."
     ]
    }
   ],
   "source": [
    "np.testing.assert_array_almost_equal(X_analysis.T, out)"
   ]
  },
  {
   "cell_type": "code",
   "execution_count": 111,
   "id": "e10eeee5-48ac-4dde-ba5d-eab951e416bf",
   "metadata": {
    "tags": []
   },
   "outputs": [
    {
     "data": {
      "text/plain": [
       "((100, 10), (100, 100))"
      ]
     },
     "execution_count": 111,
     "metadata": {},
     "output_type": "execute_result"
    }
   ],
   "source": [
    "Xfp.shape, W.shape"
   ]
  },
  {
   "cell_type": "code",
   "execution_count": 108,
   "id": "a42cfe90-1a79-467c-b515-d8099c6a061a",
   "metadata": {
    "tags": []
   },
   "outputs": [
    {
     "data": {
      "text/plain": [
       "(100, 100)"
      ]
     },
     "execution_count": 108,
     "metadata": {},
     "output_type": "execute_result"
    }
   ],
   "source": [
    "W.shape"
   ]
  },
  {
   "cell_type": "code",
   "execution_count": 82,
   "id": "68d8617b-3329-425d-a866-447f05a09ba2",
   "metadata": {
    "tags": []
   },
   "outputs": [
    {
     "data": {
      "text/plain": [
       "Array([ 0.0411188 +0.j,  0.01590232+0.j,  0.03530396+0.j,  0.0186358 +0.j,\n",
       "        0.03107024+0.j, -0.02780267+0.j,  0.01394665+0.j, -0.0398399 +0.j,\n",
       "        0.03386795+0.j, -0.02623202+0.j,  0.01253782+0.j,  0.03394068+0.j,\n",
       "       -0.007868  +0.j,  0.00223607+0.j,  0.01911372+0.j, -0.03309728+0.j,\n",
       "       -0.00735682+0.j, -0.00864039+0.j,  0.00438894+0.j, -0.02099753+0.j,\n",
       "       -0.0057542 +0.j, -0.00128632+0.j,  0.03433282+0.j,  0.00253788+0.j,\n",
       "       -0.03130005+0.j,  0.01149849+0.j, -0.00278476+0.j,  0.01562224+0.j,\n",
       "        0.03071425+0.j, -0.00507221+0.j, -0.0106824 +0.j,  0.02584798+0.j,\n",
       "        0.02040042+0.j, -0.04686123+0.j,  0.0355799 +0.j, -0.00279811+0.j,\n",
       "       -0.03848739+0.j,  0.02042115+0.j,  0.05159569+0.j, -0.00696575+0.j,\n",
       "        0.0537002 +0.j, -0.00717838+0.j,  0.01022297+0.j,  0.00349617+0.j,\n",
       "        0.04747664+0.j, -0.04910013+0.j, -0.0296434 +0.j, -0.00660738+0.j,\n",
       "        0.00197204+0.j, -0.01283245+0.j,  0.00236846+0.j,  0.01343237+0.j,\n",
       "       -0.01865395+0.j, -0.01066353+0.j,  0.03713648+0.j,  0.0172311 +0.j,\n",
       "        0.00232398+0.j, -0.00860363+0.j, -0.02687872+0.j,  0.02700752+0.j,\n",
       "       -0.00065133+0.j, -0.04318414+0.j, -0.01046969+0.j,  0.01970567+0.j,\n",
       "        0.01966723+0.j,  0.0169662 +0.j,  0.05280962+0.j, -0.05061682+0.j,\n",
       "        0.01045949+0.j, -0.01450213+0.j,  0.02659516+0.j,  0.00270923+0.j,\n",
       "       -0.0036924 +0.j, -0.00397219+0.j, -0.00522535+0.j,  0.02995975+0.j,\n",
       "        0.00665224+0.j, -0.02003123+0.j, -0.01472653+0.j,  0.00283193+0.j,\n",
       "        0.04746824+0.j, -0.01782785+0.j, -0.01918876+0.j,  0.00831196+0.j,\n",
       "        0.01881877+0.j,  0.02390313+0.j, -0.01392409+0.j,  0.03873701+0.j,\n",
       "        0.02975431+0.j,  0.0165051 +0.j,  0.00322857+0.j, -0.00653372+0.j,\n",
       "        0.05586034+0.j, -0.05408637+0.j,  0.01785104+0.j, -0.02482615+0.j,\n",
       "       -0.00874285+0.j,  0.05305908+0.j, -0.00703165+0.j, -0.02588653+0.j],      dtype=complex128)"
      ]
     },
     "execution_count": 82,
     "metadata": {},
     "output_type": "execute_result"
    }
   ],
   "source": [
    "out"
   ]
  },
  {
   "cell_type": "code",
   "execution_count": null,
   "id": "ef02ddd1-8519-4b8e-a085-aa2efd965ecb",
   "metadata": {},
   "outputs": [],
   "source": []
  }
 ],
 "metadata": {
  "kernelspec": {
   "display_name": "Python [conda env:jax_eo_py311]",
   "language": "python",
   "name": "conda-env-jax_eo_py311-py"
  },
  "language_info": {
   "codemirror_mode": {
    "name": "ipython",
    "version": 3
   },
   "file_extension": ".py",
   "mimetype": "text/x-python",
   "name": "python",
   "nbconvert_exporter": "python",
   "pygments_lexer": "ipython3",
   "version": "3.11.6"
  }
 },
 "nbformat": 4,
 "nbformat_minor": 5
}
