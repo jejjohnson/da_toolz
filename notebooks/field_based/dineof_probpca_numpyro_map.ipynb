{
 "cells": [
  {
   "cell_type": "markdown",
   "id": "d56a638d-5990-48db-89e4-099d98c97e87",
   "metadata": {},
   "source": [
    "# DINEOF"
   ]
  },
  {
   "cell_type": "code",
   "execution_count": 1,
   "id": "00d4739c-2a8c-468b-8f4d-634de377badc",
   "metadata": {
    "tags": []
   },
   "outputs": [],
   "source": [
    "import autoroot\n",
    "import numpyro\n",
    "import numpyro.distributions as dist\n",
    "from jax import config\n",
    "config.update(\"jax_enable_x64\", True)\n",
    "import jax\n",
    "import jax.numpy as jnp\n",
    "import numpy as np\n",
    "import jax.random as jr\n",
    "import xarray_einstats\n",
    "from sklearn.decomposition import PCA\n",
    "from sklearn.preprocessing import MinMaxScaler\n",
    "import xarray as xr\n",
    "import pandas as pd\n",
    "import einx\n",
    "from tqdm.auto import trange, tqdm\n",
    "\n",
    "key = jr.key(123)\n",
    "\n",
    "import matplotlib.pyplot as plt\n",
    "import seaborn as sns\n",
    "sns.reset_defaults()\n",
    "sns.set_context(context=\"talk\", font_scale=0.75)\n",
    "\n",
    "\n",
    "%matplotlib inline\n",
    "\n",
    "%load_ext autoreload\n",
    "%autoreload 2"
   ]
  },
  {
   "cell_type": "markdown",
   "id": "c036e539-463d-4247-b55b-2b00a2b6bd99",
   "metadata": {},
   "source": [
    "## Data"
   ]
  },
  {
   "cell_type": "code",
   "execution_count": 2,
   "id": "cc2fe971-961f-482f-ae45-8dc7f238d573",
   "metadata": {
    "tags": []
   },
   "outputs": [
    {
     "data": {
      "text/html": [
       "<div><svg style=\"position: absolute; width: 0; height: 0; overflow: hidden\">\n",
       "<defs>\n",
       "<symbol id=\"icon-database\" viewBox=\"0 0 32 32\">\n",
       "<path d=\"M16 0c-8.837 0-16 2.239-16 5v4c0 2.761 7.163 5 16 5s16-2.239 16-5v-4c0-2.761-7.163-5-16-5z\"></path>\n",
       "<path d=\"M16 17c-8.837 0-16-2.239-16-5v6c0 2.761 7.163 5 16 5s16-2.239 16-5v-6c0 2.761-7.163 5-16 5z\"></path>\n",
       "<path d=\"M16 26c-8.837 0-16-2.239-16-5v6c0 2.761 7.163 5 16 5s16-2.239 16-5v-6c0 2.761-7.163 5-16 5z\"></path>\n",
       "</symbol>\n",
       "<symbol id=\"icon-file-text2\" viewBox=\"0 0 32 32\">\n",
       "<path d=\"M28.681 7.159c-0.694-0.947-1.662-2.053-2.724-3.116s-2.169-2.030-3.116-2.724c-1.612-1.182-2.393-1.319-2.841-1.319h-15.5c-1.378 0-2.5 1.121-2.5 2.5v27c0 1.378 1.122 2.5 2.5 2.5h23c1.378 0 2.5-1.122 2.5-2.5v-19.5c0-0.448-0.137-1.23-1.319-2.841zM24.543 5.457c0.959 0.959 1.712 1.825 2.268 2.543h-4.811v-4.811c0.718 0.556 1.584 1.309 2.543 2.268zM28 29.5c0 0.271-0.229 0.5-0.5 0.5h-23c-0.271 0-0.5-0.229-0.5-0.5v-27c0-0.271 0.229-0.5 0.5-0.5 0 0 15.499-0 15.5 0v7c0 0.552 0.448 1 1 1h7v19.5z\"></path>\n",
       "<path d=\"M23 26h-14c-0.552 0-1-0.448-1-1s0.448-1 1-1h14c0.552 0 1 0.448 1 1s-0.448 1-1 1z\"></path>\n",
       "<path d=\"M23 22h-14c-0.552 0-1-0.448-1-1s0.448-1 1-1h14c0.552 0 1 0.448 1 1s-0.448 1-1 1z\"></path>\n",
       "<path d=\"M23 18h-14c-0.552 0-1-0.448-1-1s0.448-1 1-1h14c0.552 0 1 0.448 1 1s-0.448 1-1 1z\"></path>\n",
       "</symbol>\n",
       "</defs>\n",
       "</svg>\n",
       "<style>/* CSS stylesheet for displaying xarray objects in jupyterlab.\n",
       " *\n",
       " */\n",
       "\n",
       ":root {\n",
       "  --xr-font-color0: var(--jp-content-font-color0, rgba(0, 0, 0, 1));\n",
       "  --xr-font-color2: var(--jp-content-font-color2, rgba(0, 0, 0, 0.54));\n",
       "  --xr-font-color3: var(--jp-content-font-color3, rgba(0, 0, 0, 0.38));\n",
       "  --xr-border-color: var(--jp-border-color2, #e0e0e0);\n",
       "  --xr-disabled-color: var(--jp-layout-color3, #bdbdbd);\n",
       "  --xr-background-color: var(--jp-layout-color0, white);\n",
       "  --xr-background-color-row-even: var(--jp-layout-color1, white);\n",
       "  --xr-background-color-row-odd: var(--jp-layout-color2, #eeeeee);\n",
       "}\n",
       "\n",
       "html[theme=dark],\n",
       "body[data-theme=dark],\n",
       "body.vscode-dark {\n",
       "  --xr-font-color0: rgba(255, 255, 255, 1);\n",
       "  --xr-font-color2: rgba(255, 255, 255, 0.54);\n",
       "  --xr-font-color3: rgba(255, 255, 255, 0.38);\n",
       "  --xr-border-color: #1F1F1F;\n",
       "  --xr-disabled-color: #515151;\n",
       "  --xr-background-color: #111111;\n",
       "  --xr-background-color-row-even: #111111;\n",
       "  --xr-background-color-row-odd: #313131;\n",
       "}\n",
       "\n",
       ".xr-wrap {\n",
       "  display: block !important;\n",
       "  min-width: 300px;\n",
       "  max-width: 700px;\n",
       "}\n",
       "\n",
       ".xr-text-repr-fallback {\n",
       "  /* fallback to plain text repr when CSS is not injected (untrusted notebook) */\n",
       "  display: none;\n",
       "}\n",
       "\n",
       ".xr-header {\n",
       "  padding-top: 6px;\n",
       "  padding-bottom: 6px;\n",
       "  margin-bottom: 4px;\n",
       "  border-bottom: solid 1px var(--xr-border-color);\n",
       "}\n",
       "\n",
       ".xr-header > div,\n",
       ".xr-header > ul {\n",
       "  display: inline;\n",
       "  margin-top: 0;\n",
       "  margin-bottom: 0;\n",
       "}\n",
       "\n",
       ".xr-obj-type,\n",
       ".xr-array-name {\n",
       "  margin-left: 2px;\n",
       "  margin-right: 10px;\n",
       "}\n",
       "\n",
       ".xr-obj-type {\n",
       "  color: var(--xr-font-color2);\n",
       "}\n",
       "\n",
       ".xr-sections {\n",
       "  padding-left: 0 !important;\n",
       "  display: grid;\n",
       "  grid-template-columns: 150px auto auto 1fr 20px 20px;\n",
       "}\n",
       "\n",
       ".xr-section-item {\n",
       "  display: contents;\n",
       "}\n",
       "\n",
       ".xr-section-item input {\n",
       "  display: none;\n",
       "}\n",
       "\n",
       ".xr-section-item input + label {\n",
       "  color: var(--xr-disabled-color);\n",
       "}\n",
       "\n",
       ".xr-section-item input:enabled + label {\n",
       "  cursor: pointer;\n",
       "  color: var(--xr-font-color2);\n",
       "}\n",
       "\n",
       ".xr-section-item input:enabled + label:hover {\n",
       "  color: var(--xr-font-color0);\n",
       "}\n",
       "\n",
       ".xr-section-summary {\n",
       "  grid-column: 1;\n",
       "  color: var(--xr-font-color2);\n",
       "  font-weight: 500;\n",
       "}\n",
       "\n",
       ".xr-section-summary > span {\n",
       "  display: inline-block;\n",
       "  padding-left: 0.5em;\n",
       "}\n",
       "\n",
       ".xr-section-summary-in:disabled + label {\n",
       "  color: var(--xr-font-color2);\n",
       "}\n",
       "\n",
       ".xr-section-summary-in + label:before {\n",
       "  display: inline-block;\n",
       "  content: '►';\n",
       "  font-size: 11px;\n",
       "  width: 15px;\n",
       "  text-align: center;\n",
       "}\n",
       "\n",
       ".xr-section-summary-in:disabled + label:before {\n",
       "  color: var(--xr-disabled-color);\n",
       "}\n",
       "\n",
       ".xr-section-summary-in:checked + label:before {\n",
       "  content: '▼';\n",
       "}\n",
       "\n",
       ".xr-section-summary-in:checked + label > span {\n",
       "  display: none;\n",
       "}\n",
       "\n",
       ".xr-section-summary,\n",
       ".xr-section-inline-details {\n",
       "  padding-top: 4px;\n",
       "  padding-bottom: 4px;\n",
       "}\n",
       "\n",
       ".xr-section-inline-details {\n",
       "  grid-column: 2 / -1;\n",
       "}\n",
       "\n",
       ".xr-section-details {\n",
       "  display: none;\n",
       "  grid-column: 1 / -1;\n",
       "  margin-bottom: 5px;\n",
       "}\n",
       "\n",
       ".xr-section-summary-in:checked ~ .xr-section-details {\n",
       "  display: contents;\n",
       "}\n",
       "\n",
       ".xr-array-wrap {\n",
       "  grid-column: 1 / -1;\n",
       "  display: grid;\n",
       "  grid-template-columns: 20px auto;\n",
       "}\n",
       "\n",
       ".xr-array-wrap > label {\n",
       "  grid-column: 1;\n",
       "  vertical-align: top;\n",
       "}\n",
       "\n",
       ".xr-preview {\n",
       "  color: var(--xr-font-color3);\n",
       "}\n",
       "\n",
       ".xr-array-preview,\n",
       ".xr-array-data {\n",
       "  padding: 0 5px !important;\n",
       "  grid-column: 2;\n",
       "}\n",
       "\n",
       ".xr-array-data,\n",
       ".xr-array-in:checked ~ .xr-array-preview {\n",
       "  display: none;\n",
       "}\n",
       "\n",
       ".xr-array-in:checked ~ .xr-array-data,\n",
       ".xr-array-preview {\n",
       "  display: inline-block;\n",
       "}\n",
       "\n",
       ".xr-dim-list {\n",
       "  display: inline-block !important;\n",
       "  list-style: none;\n",
       "  padding: 0 !important;\n",
       "  margin: 0;\n",
       "}\n",
       "\n",
       ".xr-dim-list li {\n",
       "  display: inline-block;\n",
       "  padding: 0;\n",
       "  margin: 0;\n",
       "}\n",
       "\n",
       ".xr-dim-list:before {\n",
       "  content: '(';\n",
       "}\n",
       "\n",
       ".xr-dim-list:after {\n",
       "  content: ')';\n",
       "}\n",
       "\n",
       ".xr-dim-list li:not(:last-child):after {\n",
       "  content: ',';\n",
       "  padding-right: 5px;\n",
       "}\n",
       "\n",
       ".xr-has-index {\n",
       "  font-weight: bold;\n",
       "}\n",
       "\n",
       ".xr-var-list,\n",
       ".xr-var-item {\n",
       "  display: contents;\n",
       "}\n",
       "\n",
       ".xr-var-item > div,\n",
       ".xr-var-item label,\n",
       ".xr-var-item > .xr-var-name span {\n",
       "  background-color: var(--xr-background-color-row-even);\n",
       "  margin-bottom: 0;\n",
       "}\n",
       "\n",
       ".xr-var-item > .xr-var-name:hover span {\n",
       "  padding-right: 5px;\n",
       "}\n",
       "\n",
       ".xr-var-list > li:nth-child(odd) > div,\n",
       ".xr-var-list > li:nth-child(odd) > label,\n",
       ".xr-var-list > li:nth-child(odd) > .xr-var-name span {\n",
       "  background-color: var(--xr-background-color-row-odd);\n",
       "}\n",
       "\n",
       ".xr-var-name {\n",
       "  grid-column: 1;\n",
       "}\n",
       "\n",
       ".xr-var-dims {\n",
       "  grid-column: 2;\n",
       "}\n",
       "\n",
       ".xr-var-dtype {\n",
       "  grid-column: 3;\n",
       "  text-align: right;\n",
       "  color: var(--xr-font-color2);\n",
       "}\n",
       "\n",
       ".xr-var-preview {\n",
       "  grid-column: 4;\n",
       "}\n",
       "\n",
       ".xr-index-preview {\n",
       "  grid-column: 2 / 5;\n",
       "  color: var(--xr-font-color2);\n",
       "}\n",
       "\n",
       ".xr-var-name,\n",
       ".xr-var-dims,\n",
       ".xr-var-dtype,\n",
       ".xr-preview,\n",
       ".xr-attrs dt {\n",
       "  white-space: nowrap;\n",
       "  overflow: hidden;\n",
       "  text-overflow: ellipsis;\n",
       "  padding-right: 10px;\n",
       "}\n",
       "\n",
       ".xr-var-name:hover,\n",
       ".xr-var-dims:hover,\n",
       ".xr-var-dtype:hover,\n",
       ".xr-attrs dt:hover {\n",
       "  overflow: visible;\n",
       "  width: auto;\n",
       "  z-index: 1;\n",
       "}\n",
       "\n",
       ".xr-var-attrs,\n",
       ".xr-var-data,\n",
       ".xr-index-data {\n",
       "  display: none;\n",
       "  background-color: var(--xr-background-color) !important;\n",
       "  padding-bottom: 5px !important;\n",
       "}\n",
       "\n",
       ".xr-var-attrs-in:checked ~ .xr-var-attrs,\n",
       ".xr-var-data-in:checked ~ .xr-var-data,\n",
       ".xr-index-data-in:checked ~ .xr-index-data {\n",
       "  display: block;\n",
       "}\n",
       "\n",
       ".xr-var-data > table {\n",
       "  float: right;\n",
       "}\n",
       "\n",
       ".xr-var-name span,\n",
       ".xr-var-data,\n",
       ".xr-index-name div,\n",
       ".xr-index-data,\n",
       ".xr-attrs {\n",
       "  padding-left: 25px !important;\n",
       "}\n",
       "\n",
       ".xr-attrs,\n",
       ".xr-var-attrs,\n",
       ".xr-var-data,\n",
       ".xr-index-data {\n",
       "  grid-column: 1 / -1;\n",
       "}\n",
       "\n",
       "dl.xr-attrs {\n",
       "  padding: 0;\n",
       "  margin: 0;\n",
       "  display: grid;\n",
       "  grid-template-columns: 125px auto;\n",
       "}\n",
       "\n",
       ".xr-attrs dt,\n",
       ".xr-attrs dd {\n",
       "  padding: 0;\n",
       "  margin: 0;\n",
       "  float: left;\n",
       "  padding-right: 10px;\n",
       "  width: auto;\n",
       "}\n",
       "\n",
       ".xr-attrs dt {\n",
       "  font-weight: normal;\n",
       "  grid-column: 1;\n",
       "}\n",
       "\n",
       ".xr-attrs dt:hover span {\n",
       "  display: inline-block;\n",
       "  background: var(--xr-background-color);\n",
       "  padding-right: 10px;\n",
       "}\n",
       "\n",
       ".xr-attrs dd {\n",
       "  grid-column: 2;\n",
       "  white-space: pre-wrap;\n",
       "  word-break: break-all;\n",
       "}\n",
       "\n",
       ".xr-icon-database,\n",
       ".xr-icon-file-text2,\n",
       ".xr-no-icon {\n",
       "  display: inline-block;\n",
       "  vertical-align: middle;\n",
       "  width: 1em;\n",
       "  height: 1.5em !important;\n",
       "  stroke-width: 0;\n",
       "  stroke: currentColor;\n",
       "  fill: currentColor;\n",
       "}\n",
       "</style><pre class='xr-text-repr-fallback'>&lt;xarray.Dataset&gt; Size: 31MB\n",
       "Dimensions:  (lat: 25, time: 2920, lon: 53)\n",
       "Coordinates:\n",
       "  * lat      (lat) float32 100B 75.0 72.5 70.0 67.5 65.0 ... 22.5 20.0 17.5 15.0\n",
       "  * lon      (lon) float32 212B 200.0 202.5 205.0 207.5 ... 325.0 327.5 330.0\n",
       "  * time     (time) datetime64[ns] 23kB 2013-01-01 ... 2014-12-31T18:00:00\n",
       "Data variables:\n",
       "    air      (time, lat, lon) float64 31MB ...\n",
       "Attributes:\n",
       "    Conventions:  COARDS\n",
       "    title:        4x daily NMC reanalysis (1948)\n",
       "    description:  Data is from NMC initialized reanalysis\\n(4x/day).  These a...\n",
       "    platform:     Model\n",
       "    references:   http://www.esrl.noaa.gov/psd/data/gridded/data.ncep.reanaly...</pre><div class='xr-wrap' style='display:none'><div class='xr-header'><div class='xr-obj-type'>xarray.Dataset</div></div><ul class='xr-sections'><li class='xr-section-item'><input id='section-0fc3bcfa-f0a3-4786-a0e4-6966084e4291' class='xr-section-summary-in' type='checkbox' disabled ><label for='section-0fc3bcfa-f0a3-4786-a0e4-6966084e4291' class='xr-section-summary'  title='Expand/collapse section'>Dimensions:</label><div class='xr-section-inline-details'><ul class='xr-dim-list'><li><span class='xr-has-index'>lat</span>: 25</li><li><span class='xr-has-index'>time</span>: 2920</li><li><span class='xr-has-index'>lon</span>: 53</li></ul></div><div class='xr-section-details'></div></li><li class='xr-section-item'><input id='section-97058382-3b51-4885-84e2-bdcb07572d8b' class='xr-section-summary-in' type='checkbox'  checked><label for='section-97058382-3b51-4885-84e2-bdcb07572d8b' class='xr-section-summary' >Coordinates: <span>(3)</span></label><div class='xr-section-inline-details'></div><div class='xr-section-details'><ul class='xr-var-list'><li class='xr-var-item'><div class='xr-var-name'><span class='xr-has-index'>lat</span></div><div class='xr-var-dims'>(lat)</div><div class='xr-var-dtype'>float32</div><div class='xr-var-preview xr-preview'>75.0 72.5 70.0 ... 20.0 17.5 15.0</div><input id='attrs-ff7b8dc3-240b-4270-b60a-72f81d04ec86' class='xr-var-attrs-in' type='checkbox' ><label for='attrs-ff7b8dc3-240b-4270-b60a-72f81d04ec86' title='Show/Hide attributes'><svg class='icon xr-icon-file-text2'><use xlink:href='#icon-file-text2'></use></svg></label><input id='data-9553f007-8e1c-4f9e-8a94-63aa58403932' class='xr-var-data-in' type='checkbox'><label for='data-9553f007-8e1c-4f9e-8a94-63aa58403932' title='Show/Hide data repr'><svg class='icon xr-icon-database'><use xlink:href='#icon-database'></use></svg></label><div class='xr-var-attrs'><dl class='xr-attrs'><dt><span>standard_name :</span></dt><dd>latitude</dd><dt><span>long_name :</span></dt><dd>Latitude</dd><dt><span>units :</span></dt><dd>degrees_north</dd><dt><span>axis :</span></dt><dd>Y</dd></dl></div><div class='xr-var-data'><pre>array([75. , 72.5, 70. , 67.5, 65. , 62.5, 60. , 57.5, 55. , 52.5, 50. , 47.5,\n",
       "       45. , 42.5, 40. , 37.5, 35. , 32.5, 30. , 27.5, 25. , 22.5, 20. , 17.5,\n",
       "       15. ], dtype=float32)</pre></div></li><li class='xr-var-item'><div class='xr-var-name'><span class='xr-has-index'>lon</span></div><div class='xr-var-dims'>(lon)</div><div class='xr-var-dtype'>float32</div><div class='xr-var-preview xr-preview'>200.0 202.5 205.0 ... 327.5 330.0</div><input id='attrs-c5c2c79b-d0ff-4fed-8b79-87033acbbb53' class='xr-var-attrs-in' type='checkbox' ><label for='attrs-c5c2c79b-d0ff-4fed-8b79-87033acbbb53' title='Show/Hide attributes'><svg class='icon xr-icon-file-text2'><use xlink:href='#icon-file-text2'></use></svg></label><input id='data-f9b50412-eeb5-4c09-89e6-1c72d5e9d870' class='xr-var-data-in' type='checkbox'><label for='data-f9b50412-eeb5-4c09-89e6-1c72d5e9d870' title='Show/Hide data repr'><svg class='icon xr-icon-database'><use xlink:href='#icon-database'></use></svg></label><div class='xr-var-attrs'><dl class='xr-attrs'><dt><span>standard_name :</span></dt><dd>longitude</dd><dt><span>long_name :</span></dt><dd>Longitude</dd><dt><span>units :</span></dt><dd>degrees_east</dd><dt><span>axis :</span></dt><dd>X</dd></dl></div><div class='xr-var-data'><pre>array([200. , 202.5, 205. , 207.5, 210. , 212.5, 215. , 217.5, 220. , 222.5,\n",
       "       225. , 227.5, 230. , 232.5, 235. , 237.5, 240. , 242.5, 245. , 247.5,\n",
       "       250. , 252.5, 255. , 257.5, 260. , 262.5, 265. , 267.5, 270. , 272.5,\n",
       "       275. , 277.5, 280. , 282.5, 285. , 287.5, 290. , 292.5, 295. , 297.5,\n",
       "       300. , 302.5, 305. , 307.5, 310. , 312.5, 315. , 317.5, 320. , 322.5,\n",
       "       325. , 327.5, 330. ], dtype=float32)</pre></div></li><li class='xr-var-item'><div class='xr-var-name'><span class='xr-has-index'>time</span></div><div class='xr-var-dims'>(time)</div><div class='xr-var-dtype'>datetime64[ns]</div><div class='xr-var-preview xr-preview'>2013-01-01 ... 2014-12-31T18:00:00</div><input id='attrs-87ed0d42-1d9c-421a-8191-8d7db5bc25fc' class='xr-var-attrs-in' type='checkbox' ><label for='attrs-87ed0d42-1d9c-421a-8191-8d7db5bc25fc' title='Show/Hide attributes'><svg class='icon xr-icon-file-text2'><use xlink:href='#icon-file-text2'></use></svg></label><input id='data-29c9d469-f790-4402-afe4-26b192f5d784' class='xr-var-data-in' type='checkbox'><label for='data-29c9d469-f790-4402-afe4-26b192f5d784' title='Show/Hide data repr'><svg class='icon xr-icon-database'><use xlink:href='#icon-database'></use></svg></label><div class='xr-var-attrs'><dl class='xr-attrs'><dt><span>standard_name :</span></dt><dd>time</dd><dt><span>long_name :</span></dt><dd>Time</dd></dl></div><div class='xr-var-data'><pre>array([&#x27;2013-01-01T00:00:00.000000000&#x27;, &#x27;2013-01-01T06:00:00.000000000&#x27;,\n",
       "       &#x27;2013-01-01T12:00:00.000000000&#x27;, ..., &#x27;2014-12-31T06:00:00.000000000&#x27;,\n",
       "       &#x27;2014-12-31T12:00:00.000000000&#x27;, &#x27;2014-12-31T18:00:00.000000000&#x27;],\n",
       "      dtype=&#x27;datetime64[ns]&#x27;)</pre></div></li></ul></div></li><li class='xr-section-item'><input id='section-a8ea33dc-b9c5-451d-965c-d7aed24c00e4' class='xr-section-summary-in' type='checkbox'  checked><label for='section-a8ea33dc-b9c5-451d-965c-d7aed24c00e4' class='xr-section-summary' >Data variables: <span>(1)</span></label><div class='xr-section-inline-details'></div><div class='xr-section-details'><ul class='xr-var-list'><li class='xr-var-item'><div class='xr-var-name'><span>air</span></div><div class='xr-var-dims'>(time, lat, lon)</div><div class='xr-var-dtype'>float64</div><div class='xr-var-preview xr-preview'>...</div><input id='attrs-3edfc4b3-7db9-4015-a00d-4c4c634e99ac' class='xr-var-attrs-in' type='checkbox' ><label for='attrs-3edfc4b3-7db9-4015-a00d-4c4c634e99ac' title='Show/Hide attributes'><svg class='icon xr-icon-file-text2'><use xlink:href='#icon-file-text2'></use></svg></label><input id='data-8cddf288-3a77-443c-afee-f79182614c35' class='xr-var-data-in' type='checkbox'><label for='data-8cddf288-3a77-443c-afee-f79182614c35' title='Show/Hide data repr'><svg class='icon xr-icon-database'><use xlink:href='#icon-database'></use></svg></label><div class='xr-var-attrs'><dl class='xr-attrs'><dt><span>long_name :</span></dt><dd>4xDaily Air temperature at sigma level 995</dd><dt><span>units :</span></dt><dd>degK</dd><dt><span>precision :</span></dt><dd>2</dd><dt><span>GRIB_id :</span></dt><dd>11</dd><dt><span>GRIB_name :</span></dt><dd>TMP</dd><dt><span>var_desc :</span></dt><dd>Air temperature</dd><dt><span>dataset :</span></dt><dd>NMC Reanalysis</dd><dt><span>level_desc :</span></dt><dd>Surface</dd><dt><span>statistic :</span></dt><dd>Individual Obs</dd><dt><span>parent_stat :</span></dt><dd>Other</dd><dt><span>actual_range :</span></dt><dd>[185.16 322.1 ]</dd></dl></div><div class='xr-var-data'><pre>[3869000 values with dtype=float64]</pre></div></li></ul></div></li><li class='xr-section-item'><input id='section-25a30790-41cc-4e8e-834d-c3d5a1f038f2' class='xr-section-summary-in' type='checkbox'  ><label for='section-25a30790-41cc-4e8e-834d-c3d5a1f038f2' class='xr-section-summary' >Indexes: <span>(3)</span></label><div class='xr-section-inline-details'></div><div class='xr-section-details'><ul class='xr-var-list'><li class='xr-var-item'><div class='xr-index-name'><div>lat</div></div><div class='xr-index-preview'>PandasIndex</div><div></div><input id='index-426dc541-ba36-4f5c-8033-5746d95d7f90' class='xr-index-data-in' type='checkbox'/><label for='index-426dc541-ba36-4f5c-8033-5746d95d7f90' title='Show/Hide index repr'><svg class='icon xr-icon-database'><use xlink:href='#icon-database'></use></svg></label><div class='xr-index-data'><pre>PandasIndex(Index([75.0, 72.5, 70.0, 67.5, 65.0, 62.5, 60.0, 57.5, 55.0, 52.5, 50.0, 47.5,\n",
       "       45.0, 42.5, 40.0, 37.5, 35.0, 32.5, 30.0, 27.5, 25.0, 22.5, 20.0, 17.5,\n",
       "       15.0],\n",
       "      dtype=&#x27;float32&#x27;, name=&#x27;lat&#x27;))</pre></div></li><li class='xr-var-item'><div class='xr-index-name'><div>lon</div></div><div class='xr-index-preview'>PandasIndex</div><div></div><input id='index-90a43722-64c5-479c-99b2-237952381d5a' class='xr-index-data-in' type='checkbox'/><label for='index-90a43722-64c5-479c-99b2-237952381d5a' title='Show/Hide index repr'><svg class='icon xr-icon-database'><use xlink:href='#icon-database'></use></svg></label><div class='xr-index-data'><pre>PandasIndex(Index([200.0, 202.5, 205.0, 207.5, 210.0, 212.5, 215.0, 217.5, 220.0, 222.5,\n",
       "       225.0, 227.5, 230.0, 232.5, 235.0, 237.5, 240.0, 242.5, 245.0, 247.5,\n",
       "       250.0, 252.5, 255.0, 257.5, 260.0, 262.5, 265.0, 267.5, 270.0, 272.5,\n",
       "       275.0, 277.5, 280.0, 282.5, 285.0, 287.5, 290.0, 292.5, 295.0, 297.5,\n",
       "       300.0, 302.5, 305.0, 307.5, 310.0, 312.5, 315.0, 317.5, 320.0, 322.5,\n",
       "       325.0, 327.5, 330.0],\n",
       "      dtype=&#x27;float32&#x27;, name=&#x27;lon&#x27;))</pre></div></li><li class='xr-var-item'><div class='xr-index-name'><div>time</div></div><div class='xr-index-preview'>PandasIndex</div><div></div><input id='index-ccbe1f15-4ce5-4912-b02c-d2819a2da911' class='xr-index-data-in' type='checkbox'/><label for='index-ccbe1f15-4ce5-4912-b02c-d2819a2da911' title='Show/Hide index repr'><svg class='icon xr-icon-database'><use xlink:href='#icon-database'></use></svg></label><div class='xr-index-data'><pre>PandasIndex(DatetimeIndex([&#x27;2013-01-01 00:00:00&#x27;, &#x27;2013-01-01 06:00:00&#x27;,\n",
       "               &#x27;2013-01-01 12:00:00&#x27;, &#x27;2013-01-01 18:00:00&#x27;,\n",
       "               &#x27;2013-01-02 00:00:00&#x27;, &#x27;2013-01-02 06:00:00&#x27;,\n",
       "               &#x27;2013-01-02 12:00:00&#x27;, &#x27;2013-01-02 18:00:00&#x27;,\n",
       "               &#x27;2013-01-03 00:00:00&#x27;, &#x27;2013-01-03 06:00:00&#x27;,\n",
       "               ...\n",
       "               &#x27;2014-12-29 12:00:00&#x27;, &#x27;2014-12-29 18:00:00&#x27;,\n",
       "               &#x27;2014-12-30 00:00:00&#x27;, &#x27;2014-12-30 06:00:00&#x27;,\n",
       "               &#x27;2014-12-30 12:00:00&#x27;, &#x27;2014-12-30 18:00:00&#x27;,\n",
       "               &#x27;2014-12-31 00:00:00&#x27;, &#x27;2014-12-31 06:00:00&#x27;,\n",
       "               &#x27;2014-12-31 12:00:00&#x27;, &#x27;2014-12-31 18:00:00&#x27;],\n",
       "              dtype=&#x27;datetime64[ns]&#x27;, name=&#x27;time&#x27;, length=2920, freq=None))</pre></div></li></ul></div></li><li class='xr-section-item'><input id='section-8934f795-70b5-4f6f-8d3f-9620eacd86a8' class='xr-section-summary-in' type='checkbox'  checked><label for='section-8934f795-70b5-4f6f-8d3f-9620eacd86a8' class='xr-section-summary' >Attributes: <span>(5)</span></label><div class='xr-section-inline-details'></div><div class='xr-section-details'><dl class='xr-attrs'><dt><span>Conventions :</span></dt><dd>COARDS</dd><dt><span>title :</span></dt><dd>4x daily NMC reanalysis (1948)</dd><dt><span>description :</span></dt><dd>Data is from NMC initialized reanalysis\n",
       "(4x/day).  These are the 0.9950 sigma level values.</dd><dt><span>platform :</span></dt><dd>Model</dd><dt><span>references :</span></dt><dd>http://www.esrl.noaa.gov/psd/data/gridded/data.ncep.reanalysis.html</dd></dl></div></li></ul></div></div>"
      ],
      "text/plain": [
       "<xarray.Dataset> Size: 31MB\n",
       "Dimensions:  (lat: 25, time: 2920, lon: 53)\n",
       "Coordinates:\n",
       "  * lat      (lat) float32 100B 75.0 72.5 70.0 67.5 65.0 ... 22.5 20.0 17.5 15.0\n",
       "  * lon      (lon) float32 212B 200.0 202.5 205.0 207.5 ... 325.0 327.5 330.0\n",
       "  * time     (time) datetime64[ns] 23kB 2013-01-01 ... 2014-12-31T18:00:00\n",
       "Data variables:\n",
       "    air      (time, lat, lon) float64 31MB ...\n",
       "Attributes:\n",
       "    Conventions:  COARDS\n",
       "    title:        4x daily NMC reanalysis (1948)\n",
       "    description:  Data is from NMC initialized reanalysis\\n(4x/day).  These a...\n",
       "    platform:     Model\n",
       "    references:   http://www.esrl.noaa.gov/psd/data/gridded/data.ncep.reanaly..."
      ]
     },
     "execution_count": 2,
     "metadata": {},
     "output_type": "execute_result"
    }
   ],
   "source": [
    "ds = xr.tutorial.open_dataset(\"air_temperature\")\n",
    "ds"
   ]
  },
  {
   "cell_type": "code",
   "execution_count": 3,
   "id": "88fb1c7f-4ecf-48c7-bed6-1c0d3e400622",
   "metadata": {
    "tags": []
   },
   "outputs": [],
   "source": [
    "def calculate_dt(ds: xr.Dataset) -> xr.Dataset:\n",
    "    return ds.time.diff(\"time\")"
   ]
  },
  {
   "cell_type": "code",
   "execution_count": 4,
   "id": "7f5bceb2-57c1-45f0-91b1-bfe8a388a87a",
   "metadata": {
    "tags": []
   },
   "outputs": [
    {
     "data": {
      "text/plain": [
       "array([21600000000000, 21600000000000, 21600000000000, ...,\n",
       "       21600000000000, 21600000000000, 21600000000000],\n",
       "      dtype='timedelta64[ns]')"
      ]
     },
     "execution_count": 4,
     "metadata": {},
     "output_type": "execute_result"
    }
   ],
   "source": [
    "calculate_dt(ds).values"
   ]
  },
  {
   "cell_type": "code",
   "execution_count": 5,
   "id": "ce5d4957-2378-494b-9ce7-289f4f5d74d7",
   "metadata": {
    "tags": []
   },
   "outputs": [],
   "source": [
    "# change units\n",
    "# ds = ds.sel(time=slice(\"2013-01-01\", \"2013-02-01\"))\n",
    "ds[\"air\"] = ds.air - 273.15"
   ]
  },
  {
   "cell_type": "markdown",
   "id": "19e87a5d-3161-40fd-ae0e-59eb67faf715",
   "metadata": {},
   "source": [
    "### Rearrange Data"
   ]
  },
  {
   "cell_type": "code",
   "execution_count": 6,
   "id": "fedf3ca7-c51f-405c-875d-c816db433c95",
   "metadata": {
    "tags": []
   },
   "outputs": [],
   "source": [
    "# tranpose\n",
    "ds = ds.transpose(\"time\", \"lon\", \"lat\")\n",
    "data = ds.air.stack(spatial=[\"lon\", \"lat\"])\n",
    "data = data.transpose(\"spatial\", \"time\")"
   ]
  },
  {
   "cell_type": "code",
   "execution_count": 7,
   "id": "defec007-dcaf-442a-bfcf-3450b74db321",
   "metadata": {
    "tags": []
   },
   "outputs": [],
   "source": [
    "n_space = data.spatial.shape[0]\n",
    "n_time = data.time.shape[0]"
   ]
  },
  {
   "cell_type": "markdown",
   "id": "1caeef85-2eac-404c-9bd0-ae50150e36b0",
   "metadata": {},
   "source": [
    "## Model"
   ]
  },
  {
   "cell_type": "code",
   "execution_count": 8,
   "id": "a8d18b29-485f-4ce8-8dd0-75e3d468fecd",
   "metadata": {
    "tags": []
   },
   "outputs": [],
   "source": [
    "import numpyro\n",
    "from numpyro.diagnostics import hpdi\n",
    "import numpyro.distributions as dist\n",
    "from numpyro import handlers\n",
    "from numpyro.infer import MCMC, NUTS\n",
    "from jaxtyping import Float, Array"
   ]
  },
  {
   "cell_type": "code",
   "execution_count": 9,
   "id": "01a979d3-cb25-4328-bf37-2dac8e85d412",
   "metadata": {
    "tags": []
   },
   "outputs": [
    {
     "data": {
      "text/plain": [
       "(1325, 2920)"
      ]
     },
     "execution_count": 9,
     "metadata": {},
     "output_type": "execute_result"
    }
   ],
   "source": [
    "n_space, n_time"
   ]
  },
  {
   "cell_type": "code",
   "execution_count": 10,
   "id": "22ed5185-16b8-40cd-b980-a8c2c1b44182",
   "metadata": {},
   "outputs": [],
   "source": [
    "from typing import Optional\n",
    "import equinox as eqx\n",
    "\n",
    "class PPCA(eqx.Module):\n",
    "\n",
    "    num_features: int\n",
    "    num_latent: int\n",
    "\n",
    "    def model(self, y: Float[Array, \"N Dy\"], batch_size: Optional[int]=None):\n",
    "\n",
    "        # calculate alpha, prior for weights\n",
    "        rate: Float[Array, \"d\"] = jnp.ones(shape=(self.num_latent,))\n",
    "        alpha_w: Float[Array, \"d\"] = numpyro.sample(\"alpha_w\", dist.Exponential(rate=rate).to_event(1))\n",
    "        \n",
    "        # calculate W\n",
    "        loc: Float[Array, \"D\"] = jnp.zeros(shape=(self.num_features, self.num_latent))\n",
    "        scale: Float[Array, \"D D\"] = einx.rearrange(\"d -> D d\", alpha_w, D=self.num_features)\n",
    "        \n",
    "        W: Float[Array, \"D d\"] = numpyro.sample(\"W\", dist.Normal(loc, scale).to_event(1))\n",
    "\n",
    "        # # calculate mu\n",
    "        # loc: Float[Array, \"D\"] = jnp.zeros(shape=(self.num_features,))\n",
    "        # rate: Float[Array, \"D\"] = jnp.ones(shape=(self.num_features,))\n",
    "        # alpha_mu: Float[Array, \"D\"] = numpyro.sample(\"alpha_mu\", dist.Exponential(rate=rate).to_event(1))\n",
    "        # mu: Float[Array, \"D\"] = numpyro.sample(\"mu\", dist.Normal(loc, alpha_mu).to_event(1))\n",
    "\n",
    "        # calculate scale\n",
    "        sigma: Float[Array, \"\"] = numpyro.sample(\"sigma\", dist.HalfCauchy(scale=1))\n",
    "\n",
    "        # # latent variable\n",
    "        loc = jnp.zeros(shape=(self.num_latent,))\n",
    "        scale = jnp.ones(shape=(self.num_latent,))\n",
    "\n",
    "        with numpyro.plate(\"samples\", y.shape[0]):\n",
    "\n",
    "            # batch size\n",
    "            batch_y = numpyro.subsample(y, event_dim=1) if y is not None else None\n",
    "\n",
    "            z: Float[Array, \"Dz\"] = numpyro.sample(\"z\", dist.Normal(loc, scale).to_event(1))\n",
    "            \n",
    "            # calculate mean\n",
    "            loc: Float[Array, \"B D\"] = einx.dot(\"D d, B d -> B D\", W, z) \n",
    "            # loc: Float[Array, \"B D\"] = einx.add(\"B D, D -> B D\", loc, mu)\n",
    "            \n",
    "            # calculate scale\n",
    "            scale: Float[Array, \"D\"] = sigma * jnp.ones(shape=(self.num_features,))\n",
    "\n",
    "            # data likelihood\n",
    "            d = dist.Normal(loc=loc, scale=scale).to_event(1)\n",
    "            y = numpyro.sample(\"y\", d, obs=batch_y)\n",
    "\n",
    "        return y"
   ]
  },
  {
   "cell_type": "code",
   "execution_count": 11,
   "id": "29456cf6-8005-46c8-906f-a22d8b124840",
   "metadata": {
    "tags": []
   },
   "outputs": [],
   "source": [
    "from numpyro.infer.autoguide import AutoDelta, AutoNormal\n",
    "from numpyro.infer import Predictive, SVI, Trace_ELBO, TraceMeanField_ELBO\n",
    "import jax.random as jrandom"
   ]
  },
  {
   "cell_type": "code",
   "execution_count": 12,
   "id": "a27e143c-53f4-479d-8033-6d27a113553f",
   "metadata": {},
   "outputs": [],
   "source": [
    "ppca_model = PPCA(num_latent=25, num_features=n_time)"
   ]
  },
  {
   "cell_type": "code",
   "execution_count": 13,
   "id": "ee989ef5-9949-4d48-a9aa-dc92fe1a7225",
   "metadata": {},
   "outputs": [
    {
     "name": "stdout",
     "output_type": "stream",
     "text": [
      "(32, 2920)\n"
     ]
    }
   ],
   "source": [
    "with numpyro.handlers.seed(rng_seed=jrandom.PRNGKey(42)):\n",
    "    out = ppca_model.model(y=data.values[:32])\n",
    "    print(out.shape)"
   ]
  },
  {
   "cell_type": "code",
   "execution_count": 14,
   "id": "aa8dd6d4-f5f8-47d0-8b68-0cbceab606fc",
   "metadata": {
    "tags": []
   },
   "outputs": [
    {
     "name": "stderr",
     "output_type": "stream",
     "text": [
      "100%|████████████████████| 3000/3000 [02:20<00:00, 21.30it/s, init loss: 546254430.6324, avg. loss [2851-3000]: 8012829.1471]\n"
     ]
    }
   ],
   "source": [
    "# initialize MAP guide\n",
    "map_guide = AutoDelta(ppca_model.model)\n",
    "\n",
    "# initialize svi inference\n",
    "loss = TraceMeanField_ELBO()\n",
    "optimizer = numpyro.optim.Adam(step_size=0.01)\n",
    "svi = SVI(model=ppca_model.model, guide=map_guide, optim=optimizer, loss=loss)\n",
    "\n",
    "num_samples: int = 1\n",
    "num_steps: int = 3_000\n",
    "rng_key = jrandom.PRNGKey(123)\n",
    "batch_size = 128\n",
    "init_params = None\n",
    "svi_result = svi.run(rng_key=rng_key, init_params=init_params, num_steps=num_steps, y=data.values, batch_size=batch_size)"
   ]
  },
  {
   "cell_type": "code",
   "execution_count": 15,
   "id": "2b62204e-302f-4c93-9c7e-864c2e190198",
   "metadata": {
    "tags": []
   },
   "outputs": [
    {
     "data": {
      "image/png": "[encoded data removed]",
      "text/plain": [
       "<Figure size 640x480 with 1 Axes>"
      ]
     },
     "metadata": {},
     "output_type": "display_data"
    }
   ],
   "source": [
    "fig, ax = plt.subplots()\n",
    "ax.plot(svi_result.losses)\n",
    "ax.set(yscale=\"symlog\")\n",
    "plt.tight_layout()\n",
    "plt.show()"
   ]
  },
  {
   "cell_type": "markdown",
   "id": "fe5241e0-7b85-46af-bfac-6de6a70ef3cc",
   "metadata": {},
   "source": [
    "## Inference"
   ]
  },
  {
   "cell_type": "markdown",
   "id": "4988e11f-849a-4767-95d4-438167517a76",
   "metadata": {},
   "source": [
    "#### Variational Parameters"
   ]
  },
  {
   "cell_type": "code",
   "execution_count": 16,
   "id": "55e3c6dc-8a8c-43c4-a3dc-c41dbc5a1aed",
   "metadata": {
    "tags": []
   },
   "outputs": [],
   "source": [
    "from numpyro.infer import Predictive"
   ]
  },
  {
   "cell_type": "code",
   "execution_count": 17,
   "id": "0e1e44aa-d61f-458c-a493-bb785e901c44",
   "metadata": {},
   "outputs": [],
   "source": [
    "params = svi_result.params"
   ]
  },
  {
   "cell_type": "code",
   "execution_count": 18,
   "id": "19a9e826-3dc8-4fee-9726-2e2c55822b71",
   "metadata": {},
   "outputs": [
    {
     "data": {
      "text/plain": [
       "['W_auto_loc', 'alpha_w_auto_loc', 'sigma_auto_loc', 'z_auto_loc']"
      ]
     },
     "execution_count": 18,
     "metadata": {},
     "output_type": "execute_result"
    }
   ],
   "source": [
    "list(params.keys())"
   ]
  },
  {
   "cell_type": "code",
   "execution_count": 19,
   "id": "c15f9a1e-b2a3-476d-b0dc-196ee9ca0449",
   "metadata": {},
   "outputs": [
    {
     "data": {
      "text/plain": [
       "(2920, 25)"
      ]
     },
     "execution_count": 19,
     "metadata": {},
     "output_type": "execute_result"
    }
   ],
   "source": [
    "params[\"W_auto_loc\"].shape"
   ]
  },
  {
   "cell_type": "raw",
   "id": "de4cab56-1da3-414a-8770-ed0039117208",
   "metadata": {},
   "source": []
  },
  {
   "cell_type": "code",
   "execution_count": null,
   "id": "728421c2-8ab7-4aad-bef3-d27c783d5881",
   "metadata": {},
   "outputs": [],
   "source": []
  },
  {
   "cell_type": "markdown",
   "id": "ecca54e3-9e5b-4e1e-a31b-ea39de4b3869",
   "metadata": {},
   "source": [
    "#### Posterior Parameters"
   ]
  },
  {
   "cell_type": "code",
   "execution_count": 20,
   "id": "8e7f4272-206e-4518-9127-263acf42fb3a",
   "metadata": {},
   "outputs": [],
   "source": [
    "predictive = Predictive(model=ppca_model.model, guide=map_guide, params=params, num_samples=1, return_sites=[\"W\", \"z\", \"mu\"])\n",
    "predictive = Predictive(map_guide, params=params, num_samples=1, return_sites=[\"W\", \"z\", \"mu\"])\n",
    "posterior_samples = predictive(jrandom.PRNGKey(0), y=data.values)"
   ]
  },
  {
   "cell_type": "code",
   "execution_count": 21,
   "id": "0f1905fd-61f5-40a4-bcd5-491347c6f62d",
   "metadata": {},
   "outputs": [
    {
     "data": {
      "text/plain": [
       "(1, 1325, 25)"
      ]
     },
     "execution_count": 21,
     "metadata": {},
     "output_type": "execute_result"
    }
   ],
   "source": [
    "posterior_samples[\"z\"].shape"
   ]
  },
  {
   "cell_type": "code",
   "execution_count": 22,
   "id": "c051dacc-03da-4321-8626-4826a2befc9c",
   "metadata": {
    "tags": []
   },
   "outputs": [],
   "source": [
    "# posterior_samples[\"mu\"].shape, X_recon.shape"
   ]
  },
  {
   "cell_type": "code",
   "execution_count": 23,
   "id": "febbe373-ef3c-4fe3-a462-2411d223a00b",
   "metadata": {},
   "outputs": [
    {
     "data": {
      "text/plain": [
       "(1, 2920, 25)"
      ]
     },
     "execution_count": 23,
     "metadata": {},
     "output_type": "execute_result"
    }
   ],
   "source": [
    "posterior_samples[\"W\"].shape"
   ]
  },
  {
   "cell_type": "code",
   "execution_count": 24,
   "id": "38f2a89c-28b9-46ac-b8b3-978108574fe6",
   "metadata": {
    "tags": []
   },
   "outputs": [
    {
     "data": {
      "text/plain": [
       "(1325, 2920)"
      ]
     },
     "execution_count": 24,
     "metadata": {},
     "output_type": "execute_result"
    }
   ],
   "source": [
    "X_recon = einx.dot(\"B Dt Dz, B Ds Dz -> Ds Dt\", posterior_samples[\"W\"], posterior_samples[\"z\"])\n",
    "# X_recon = einx.add(\"Ds Dt, Dt -> Ds Dt\", X_recon, posterior_samples[\"mu\"].squeeze())\n",
    "X_recon.shape"
   ]
  },
  {
   "cell_type": "code",
   "execution_count": 25,
   "id": "b8ef8166-0ac7-4ad9-8b36-8603a42f5460",
   "metadata": {
    "tags": []
   },
   "outputs": [],
   "source": [
    "# data[\"mean_field\"] = ((\"time\",), posterior_samples[\"mu\"].squeeze())"
   ]
  },
  {
   "cell_type": "code",
   "execution_count": 26,
   "id": "b38df77f-39a0-4aea-8329-c58257215ca7",
   "metadata": {
    "tags": []
   },
   "outputs": [],
   "source": [
    "# data.mean_field.unstack().plot()#.pcolormesh(x=\"time\")"
   ]
  },
  {
   "cell_type": "code",
   "execution_count": 27,
   "id": "27120d97-b470-4ae3-9a22-b2924a4304ed",
   "metadata": {
    "tags": []
   },
   "outputs": [],
   "source": [
    "data[\"recon\"] = ((\"spatial\", \"time\"), X_recon)"
   ]
  },
  {
   "cell_type": "code",
   "execution_count": 28,
   "id": "4df36537-fb51-4fc5-8888-f693240d62b2",
   "metadata": {
    "tags": []
   },
   "outputs": [
    {
     "data": {
      "image/png": "[encoded data removed]",
      "text/plain": [
       "<Figure size 1500x400 with 6 Axes>"
      ]
     },
     "metadata": {},
     "output_type": "display_data"
    }
   ],
   "source": [
    "fig, ax = plt.subplots(ncols=3, figsize=(15,4))\n",
    "\n",
    "itime = 100\n",
    "\n",
    "data.unstack().isel(time=itime).plot.pcolormesh(x=\"lon\", ax=ax[0])\n",
    "data.recon.unstack().isel(time=itime).plot.pcolormesh(x=\"lon\",ax=ax[1])\n",
    "np.abs(data - data.recon).unstack().isel(time=itime).plot.pcolormesh(x=\"lon\",ax=ax[2],cmap=\"Reds\")\n",
    "\n",
    "plt.tight_layout()\n",
    "plt.show()"
   ]
  },
  {
   "cell_type": "code",
   "execution_count": null,
   "id": "196d693d-8b79-4f28-8f42-4afd54a3caf8",
   "metadata": {},
   "outputs": [],
   "source": []
  }
 ],
 "metadata": {
  "kernelspec": {
   "display_name": "Python [conda env:jax_eo_py311]",
   "language": "python",
   "name": "conda-env-jax_eo_py311-py"
  },
  "language_info": {
   "codemirror_mode": {
    "name": "ipython",
    "version": 3
   },
   "file_extension": ".py",
   "mimetype": "text/x-python",
   "name": "python",
   "nbconvert_exporter": "python",
   "pygments_lexer": "ipython3",
   "version": "3.11.8"
  }
 },
 "nbformat": 4,
 "nbformat_minor": 5
}
