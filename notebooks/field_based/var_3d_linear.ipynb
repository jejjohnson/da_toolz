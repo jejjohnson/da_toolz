{
 "cells": [
  {
   "cell_type": "markdown",
   "id": "3712669b-901c-43c3-a52b-54d03ed83a37",
   "metadata": {},
   "source": [
    "# 3DVar"
   ]
  },
  {
   "cell_type": "code",
   "execution_count": 38,
   "id": "d5fdc732-c296-49fc-b28e-214d09d4dd4d",
   "metadata": {
    "tags": []
   },
   "outputs": [
    {
     "name": "stdout",
     "output_type": "stream",
     "text": [
      "The autoreload extension is already loaded. To reload it, use:\n",
      "  %reload_ext autoreload\n"
     ]
    }
   ],
   "source": [
    "import autoroot\n",
    "from pathlib import Path\n",
    "import numpyro\n",
    "import numpyro.distributions as dist\n",
    "from jax import config\n",
    "config.update(\"jax_enable_x64\", True)\n",
    "import einx\n",
    "import jax\n",
    "import jax.numpy as jnp\n",
    "import numpy as np\n",
    "import jax.random as jr\n",
    "import xarray as xr\n",
    "from jaxtyping import Float, Array\n",
    "import cola\n",
    "from oi_toolz._src.ops.kernels import kernel_rbf, gram\n",
    "from oi_toolz._src.ops.linalg import create_psd_matrix\n",
    "from oi_toolz._src.ops.varda import (\n",
    "    linear_3dvar_model_space,\n",
    "    linear_3dvar_model_space_incremental,\n",
    "    linear_3dvar_obs_space_incremental\n",
    ")\n",
    "from cola.linalg import Auto\n",
    "from oi_toolz._src.ops.enskf import analysis_etkf\n",
    "from sklearn.datasets import make_spd_matrix, make_sparse_spd_matrix\n",
    "\n",
    "key = jr.key(123)\n",
    "\n",
    "import matplotlib.pyplot as plt\n",
    "import seaborn as sns\n",
    "sns.reset_defaults()\n",
    "sns.set_context(context=\"talk\", font_scale=0.75)\n",
    "\n",
    "\n",
    "%matplotlib inline\n",
    "\n",
    "%load_ext autoreload\n",
    "%autoreload 2"
   ]
  },
  {
   "cell_type": "markdown",
   "id": "4c9d4535-57c8-4b83-8177-8a6432fcced3",
   "metadata": {},
   "source": [
    "### Data"
   ]
  },
  {
   "cell_type": "code",
   "execution_count": 41,
   "id": "5bbd663d-7320-4a9e-bb9b-d74d93338d7e",
   "metadata": {
    "tags": []
   },
   "outputs": [],
   "source": [
    "num_dims_x = 100\n",
    "num_dims_y = 50\n",
    "\n",
    "key, *subkeys = jr.split(key, 5)\n",
    "\n",
    "# observations\n",
    "y = jr.normal(subkeys[0], shape=(num_dims_y,))\n",
    "\n",
    "# observation operator\n",
    "H = jr.normal(subkeys[1], shape=(num_dims_y, num_dims_x))\n",
    "\n",
    "# prior parameters\n",
    "mu_x = jnp.ones(shape=(num_dims_x,))\n",
    "Sigma_x = make_sparse_spd_matrix(n_dim=num_dims_x, sparse_format=\"csr\")\n",
    "# Sigma_x = cola.ops.Sparse(data=Sigma_x.data, indices=Sigma_x.indices, indptr=Sigma_x.indptr, shape=Sigma_x.shape)\n",
    "Sigma_x = cola.ops.Dense(make_spd_matrix(n_dim=num_dims_x, random_state=5))\n",
    "\n",
    "# observation\n",
    "Sigma_y = cola.ops.Dense(make_spd_matrix(n_dim=num_dims_y, random_state=5))\n",
    "# Sigma_y = cola.ops.Diagonal(cola.diag(Sigma_y))"
   ]
  },
  {
   "cell_type": "markdown",
   "id": "972422f0-036c-42d1-bfd7-d4851e3e8e64",
   "metadata": {},
   "source": [
    "## Formulation\n",
    "\n"
   ]
  },
  {
   "cell_type": "markdown",
   "id": "a0b4430e-5591-4990-bbcc-35f93cfec6c7",
   "metadata": {},
   "source": [
    "$$\n",
    "\\begin{aligned}\n",
    "\\boldsymbol{J}(\\mathbf{u}) &= ||\\boldsymbol{y}-\\boldsymbol{h}(\\boldsymbol{u})||_{\\boldsymbol{\\Sigma_y}^{-1}}^2\n",
    "+ ||\\boldsymbol{u}-\\boldsymbol{\\mu_u}||_{\\boldsymbol{\\Sigma_u}^{-1}}^2\n",
    "\\end{aligned}\n",
    "$$"
   ]
  },
  {
   "cell_type": "markdown",
   "id": "1ea72ffe-03e3-4ee9-b24d-496b62cdaf26",
   "metadata": {},
   "source": [
    "#### **Model-Space**\n",
    "\n",
    "$$\n",
    "\\mathbf{u} = \n",
    "\\left(\\boldsymbol{\\Sigma_u} + \\mathbf{H}^\\top\\boldsymbol{\\Sigma_y}^{-1}\\mathbf{H}\\right)^{-1}\n",
    "\\left(\\boldsymbol{\\Sigma_u}^{-1}\\boldsymbol{\\mu_u} + \\mathbf{H}^\\top\\boldsymbol{\\Sigma_y}^{-1}\\mathbf{y}\\right)\n",
    "$$"
   ]
  },
  {
   "cell_type": "code",
   "execution_count": 42,
   "id": "71c19c7b-dd8c-44fa-9e1a-6df80ec51d89",
   "metadata": {
    "tags": []
   },
   "outputs": [
    {
     "data": {
      "text/plain": [
       "(100,)"
      ]
     },
     "execution_count": 42,
     "metadata": {},
     "output_type": "execute_result"
    }
   ],
   "source": [
    "u = linear_3dvar_model_space(y=y, H=H, mu_x=mu_x, Sigma_x=Sigma_x, Sigma_y=Sigma_y)\n",
    "u.shape"
   ]
  },
  {
   "cell_type": "markdown",
   "id": "0c0432ac-ed49-43f1-b579-b19963d54395",
   "metadata": {},
   "source": [
    "#### **Model-Space Incremental**\n",
    "\n",
    "$$\n",
    "\\mathbf{u} = \n",
    "\\boldsymbol{\\mu_u} + \n",
    "\\left( \n",
    "\\boldsymbol{\\Sigma_u}^{-1} + \n",
    "\\mathbf{H}^\\top\\boldsymbol{\\Sigma_y}^{-1}\\mathbf{H}\\right)^{-1}\n",
    "\\mathbf{H}^\\top\\boldsymbol{\\Sigma_y}^{-1}\n",
    "\\left(\\mathbf{y} -\\mathbf{H}\\boldsymbol{\\mu_u}\\right)\n",
    "$$"
   ]
  },
  {
   "cell_type": "code",
   "execution_count": 43,
   "id": "f63b4d49-56c5-435d-b312-221c795088f4",
   "metadata": {
    "tags": []
   },
   "outputs": [
    {
     "data": {
      "text/plain": [
       "(100,)"
      ]
     },
     "execution_count": 43,
     "metadata": {},
     "output_type": "execute_result"
    }
   ],
   "source": [
    "u2 = linear_3dvar_model_space_incremental(y=y, H=H, mu_x=mu_x, Sigma_x=Sigma_x, Sigma_y=Sigma_y)\n",
    "u2.shape"
   ]
  },
  {
   "cell_type": "code",
   "execution_count": 44,
   "id": "e968554a-46fb-4b03-980c-64e7f27fe9fb",
   "metadata": {
    "tags": []
   },
   "outputs": [],
   "source": [
    "np.testing.assert_array_almost_equal(u, u2)"
   ]
  },
  {
   "cell_type": "markdown",
   "id": "980f4855-1a54-4c5e-b80e-54ce5561b58d",
   "metadata": {},
   "source": [
    "#### **Observation-Space**"
   ]
  },
  {
   "cell_type": "markdown",
   "id": "7f0fcf68-a60a-4eaf-ad3e-39b933a365f7",
   "metadata": {},
   "source": [
    "We can use the Sherman-Morrison-Woodbury inversion formula to change the way we do this.\n",
    "\n",
    "$$\n",
    "\\mathbf{u} = \n",
    "\\boldsymbol{\\mu_u} + \n",
    "\\boldsymbol{\\Sigma_u}\\mathbf{H}^\\top\n",
    "\\left(\\boldsymbol{\\Sigma_y} + \\mathbf{H}\\boldsymbol{\\Sigma_u}\\mathbf{H}^\\top\\right)^{-1}\n",
    "\\left(\\mathbf{y} -\\mathbf{H}\\boldsymbol{\\mu_u}\\right)\n",
    "$$"
   ]
  },
  {
   "cell_type": "code",
   "execution_count": 45,
   "id": "52491f8a-f48c-4b7d-9326-020d615e0338",
   "metadata": {
    "tags": []
   },
   "outputs": [
    {
     "data": {
      "text/plain": [
       "(100,)"
      ]
     },
     "execution_count": 45,
     "metadata": {},
     "output_type": "execute_result"
    }
   ],
   "source": [
    "u3 = linear_3dvar_obs_space_incremental(y=y, H=H, mu_x=mu_x, Sigma_x=Sigma_x, Sigma_y=Sigma_y)\n",
    "u3.shape"
   ]
  },
  {
   "cell_type": "code",
   "execution_count": 46,
   "id": "82a004a7-2ea9-4596-bb39-a2cbb0c4e107",
   "metadata": {
    "tags": []
   },
   "outputs": [],
   "source": [
    "np.testing.assert_array_almost_equal(u2, u3)"
   ]
  },
  {
   "cell_type": "code",
   "execution_count": 47,
   "id": "d104030f-f0a0-4b84-ab30-3a2678d1e6ad",
   "metadata": {
    "tags": []
   },
   "outputs": [],
   "source": [
    "# %%timeit\n",
    "\n",
    "# linear_3dvar_model_space(y=y, H=H, mu_x=mu_x, Sigma_x=Sigma_x, Sigma_y=Sigma_y).block_until_ready()\n"
   ]
  },
  {
   "cell_type": "code",
   "execution_count": 48,
   "id": "f34d9628-3756-4640-8a2e-443554c0b00f",
   "metadata": {
    "tags": []
   },
   "outputs": [],
   "source": [
    "# %%timeit\n",
    "\n",
    "# linear_3dvar_model_space_incremental(y=y, H=H, mu_x=mu_x, Sigma_x=Sigma_x, Sigma_y=Sigma_y)"
   ]
  },
  {
   "cell_type": "code",
   "execution_count": 49,
   "id": "f02bcba7-97af-4a67-bb42-99edf54aa2ec",
   "metadata": {
    "tags": []
   },
   "outputs": [],
   "source": [
    "# %%timeit\n",
    "\n",
    "# linear_3dvar_obs_space_incremental(y=y, H=H, mu_x=mu_x, Sigma_x=Sigma_x, Sigma_y=Sigma_y)"
   ]
  },
  {
   "cell_type": "markdown",
   "id": "27f7fd65-5964-4ee5-a6bd-c9f8bc2e4e68",
   "metadata": {},
   "source": [
    "## Example"
   ]
  },
  {
   "cell_type": "code",
   "execution_count": 50,
   "id": "25a04f9b-3d50-4f91-b227-a484739be494",
   "metadata": {
    "tags": []
   },
   "outputs": [],
   "source": [
    "import equinox as eqx\n",
    "import diffrax as dfx"
   ]
  },
  {
   "cell_type": "code",
   "execution_count": 51,
   "id": "837c7327-451c-4ea9-acea-176e641a811c",
   "metadata": {
    "tags": []
   },
   "outputs": [],
   "source": [
    "data = xr.open_dataset(\"/Users/eman/code_projects/data/pyda/lorenz63/l63_sim.nc\")"
   ]
  },
  {
   "cell_type": "code",
   "execution_count": 52,
   "id": "937f4b72-dc48-489a-bf08-adabb492e91a",
   "metadata": {
    "tags": []
   },
   "outputs": [
    {
     "data": {
      "text/html": [
       "<div><svg style=\"position: absolute; width: 0; height: 0; overflow: hidden\">\n",
       "<defs>\n",
       "<symbol id=\"icon-database\" viewBox=\"0 0 32 32\">\n",
       "<path d=\"M16 0c-8.837 0-16 2.239-16 5v4c0 2.761 7.163 5 16 5s16-2.239 16-5v-4c0-2.761-7.163-5-16-5z\"></path>\n",
       "<path d=\"M16 17c-8.837 0-16-2.239-16-5v6c0 2.761 7.163 5 16 5s16-2.239 16-5v-6c0 2.761-7.163 5-16 5z\"></path>\n",
       "<path d=\"M16 26c-8.837 0-16-2.239-16-5v6c0 2.761 7.163 5 16 5s16-2.239 16-5v-6c0 2.761-7.163 5-16 5z\"></path>\n",
       "</symbol>\n",
       "<symbol id=\"icon-file-text2\" viewBox=\"0 0 32 32\">\n",
       "<path d=\"M28.681 7.159c-0.694-0.947-1.662-2.053-2.724-3.116s-2.169-2.030-3.116-2.724c-1.612-1.182-2.393-1.319-2.841-1.319h-15.5c-1.378 0-2.5 1.121-2.5 2.5v27c0 1.378 1.122 2.5 2.5 2.5h23c1.378 0 2.5-1.122 2.5-2.5v-19.5c0-0.448-0.137-1.23-1.319-2.841zM24.543 5.457c0.959 0.959 1.712 1.825 2.268 2.543h-4.811v-4.811c0.718 0.556 1.584 1.309 2.543 2.268zM28 29.5c0 0.271-0.229 0.5-0.5 0.5h-23c-0.271 0-0.5-0.229-0.5-0.5v-27c0-0.271 0.229-0.5 0.5-0.5 0 0 15.499-0 15.5 0v7c0 0.552 0.448 1 1 1h7v19.5z\"></path>\n",
       "<path d=\"M23 26h-14c-0.552 0-1-0.448-1-1s0.448-1 1-1h14c0.552 0 1 0.448 1 1s-0.448 1-1 1z\"></path>\n",
       "<path d=\"M23 22h-14c-0.552 0-1-0.448-1-1s0.448-1 1-1h14c0.552 0 1 0.448 1 1s-0.448 1-1 1z\"></path>\n",
       "<path d=\"M23 18h-14c-0.552 0-1-0.448-1-1s0.448-1 1-1h14c0.552 0 1 0.448 1 1s-0.448 1-1 1z\"></path>\n",
       "</symbol>\n",
       "</defs>\n",
       "</svg>\n",
       "<style>/* CSS stylesheet for displaying xarray objects in jupyterlab.\n",
       " *\n",
       " */\n",
       "\n",
       ":root {\n",
       "  --xr-font-color0: var(--jp-content-font-color0, rgba(0, 0, 0, 1));\n",
       "  --xr-font-color2: var(--jp-content-font-color2, rgba(0, 0, 0, 0.54));\n",
       "  --xr-font-color3: var(--jp-content-font-color3, rgba(0, 0, 0, 0.38));\n",
       "  --xr-border-color: var(--jp-border-color2, #e0e0e0);\n",
       "  --xr-disabled-color: var(--jp-layout-color3, #bdbdbd);\n",
       "  --xr-background-color: var(--jp-layout-color0, white);\n",
       "  --xr-background-color-row-even: var(--jp-layout-color1, white);\n",
       "  --xr-background-color-row-odd: var(--jp-layout-color2, #eeeeee);\n",
       "}\n",
       "\n",
       "html[theme=dark],\n",
       "body[data-theme=dark],\n",
       "body.vscode-dark {\n",
       "  --xr-font-color0: rgba(255, 255, 255, 1);\n",
       "  --xr-font-color2: rgba(255, 255, 255, 0.54);\n",
       "  --xr-font-color3: rgba(255, 255, 255, 0.38);\n",
       "  --xr-border-color: #1F1F1F;\n",
       "  --xr-disabled-color: #515151;\n",
       "  --xr-background-color: #111111;\n",
       "  --xr-background-color-row-even: #111111;\n",
       "  --xr-background-color-row-odd: #313131;\n",
       "}\n",
       "\n",
       ".xr-wrap {\n",
       "  display: block !important;\n",
       "  min-width: 300px;\n",
       "  max-width: 700px;\n",
       "}\n",
       "\n",
       ".xr-text-repr-fallback {\n",
       "  /* fallback to plain text repr when CSS is not injected (untrusted notebook) */\n",
       "  display: none;\n",
       "}\n",
       "\n",
       ".xr-header {\n",
       "  padding-top: 6px;\n",
       "  padding-bottom: 6px;\n",
       "  margin-bottom: 4px;\n",
       "  border-bottom: solid 1px var(--xr-border-color);\n",
       "}\n",
       "\n",
       ".xr-header > div,\n",
       ".xr-header > ul {\n",
       "  display: inline;\n",
       "  margin-top: 0;\n",
       "  margin-bottom: 0;\n",
       "}\n",
       "\n",
       ".xr-obj-type,\n",
       ".xr-array-name {\n",
       "  margin-left: 2px;\n",
       "  margin-right: 10px;\n",
       "}\n",
       "\n",
       ".xr-obj-type {\n",
       "  color: var(--xr-font-color2);\n",
       "}\n",
       "\n",
       ".xr-sections {\n",
       "  padding-left: 0 !important;\n",
       "  display: grid;\n",
       "  grid-template-columns: 150px auto auto 1fr 20px 20px;\n",
       "}\n",
       "\n",
       ".xr-section-item {\n",
       "  display: contents;\n",
       "}\n",
       "\n",
       ".xr-section-item input {\n",
       "  display: none;\n",
       "}\n",
       "\n",
       ".xr-section-item input + label {\n",
       "  color: var(--xr-disabled-color);\n",
       "}\n",
       "\n",
       ".xr-section-item input:enabled + label {\n",
       "  cursor: pointer;\n",
       "  color: var(--xr-font-color2);\n",
       "}\n",
       "\n",
       ".xr-section-item input:enabled + label:hover {\n",
       "  color: var(--xr-font-color0);\n",
       "}\n",
       "\n",
       ".xr-section-summary {\n",
       "  grid-column: 1;\n",
       "  color: var(--xr-font-color2);\n",
       "  font-weight: 500;\n",
       "}\n",
       "\n",
       ".xr-section-summary > span {\n",
       "  display: inline-block;\n",
       "  padding-left: 0.5em;\n",
       "}\n",
       "\n",
       ".xr-section-summary-in:disabled + label {\n",
       "  color: var(--xr-font-color2);\n",
       "}\n",
       "\n",
       ".xr-section-summary-in + label:before {\n",
       "  display: inline-block;\n",
       "  content: '►';\n",
       "  font-size: 11px;\n",
       "  width: 15px;\n",
       "  text-align: center;\n",
       "}\n",
       "\n",
       ".xr-section-summary-in:disabled + label:before {\n",
       "  color: var(--xr-disabled-color);\n",
       "}\n",
       "\n",
       ".xr-section-summary-in:checked + label:before {\n",
       "  content: '▼';\n",
       "}\n",
       "\n",
       ".xr-section-summary-in:checked + label > span {\n",
       "  display: none;\n",
       "}\n",
       "\n",
       ".xr-section-summary,\n",
       ".xr-section-inline-details {\n",
       "  padding-top: 4px;\n",
       "  padding-bottom: 4px;\n",
       "}\n",
       "\n",
       ".xr-section-inline-details {\n",
       "  grid-column: 2 / -1;\n",
       "}\n",
       "\n",
       ".xr-section-details {\n",
       "  display: none;\n",
       "  grid-column: 1 / -1;\n",
       "  margin-bottom: 5px;\n",
       "}\n",
       "\n",
       ".xr-section-summary-in:checked ~ .xr-section-details {\n",
       "  display: contents;\n",
       "}\n",
       "\n",
       ".xr-array-wrap {\n",
       "  grid-column: 1 / -1;\n",
       "  display: grid;\n",
       "  grid-template-columns: 20px auto;\n",
       "}\n",
       "\n",
       ".xr-array-wrap > label {\n",
       "  grid-column: 1;\n",
       "  vertical-align: top;\n",
       "}\n",
       "\n",
       ".xr-preview {\n",
       "  color: var(--xr-font-color3);\n",
       "}\n",
       "\n",
       ".xr-array-preview,\n",
       ".xr-array-data {\n",
       "  padding: 0 5px !important;\n",
       "  grid-column: 2;\n",
       "}\n",
       "\n",
       ".xr-array-data,\n",
       ".xr-array-in:checked ~ .xr-array-preview {\n",
       "  display: none;\n",
       "}\n",
       "\n",
       ".xr-array-in:checked ~ .xr-array-data,\n",
       ".xr-array-preview {\n",
       "  display: inline-block;\n",
       "}\n",
       "\n",
       ".xr-dim-list {\n",
       "  display: inline-block !important;\n",
       "  list-style: none;\n",
       "  padding: 0 !important;\n",
       "  margin: 0;\n",
       "}\n",
       "\n",
       ".xr-dim-list li {\n",
       "  display: inline-block;\n",
       "  padding: 0;\n",
       "  margin: 0;\n",
       "}\n",
       "\n",
       ".xr-dim-list:before {\n",
       "  content: '(';\n",
       "}\n",
       "\n",
       ".xr-dim-list:after {\n",
       "  content: ')';\n",
       "}\n",
       "\n",
       ".xr-dim-list li:not(:last-child):after {\n",
       "  content: ',';\n",
       "  padding-right: 5px;\n",
       "}\n",
       "\n",
       ".xr-has-index {\n",
       "  font-weight: bold;\n",
       "}\n",
       "\n",
       ".xr-var-list,\n",
       ".xr-var-item {\n",
       "  display: contents;\n",
       "}\n",
       "\n",
       ".xr-var-item > div,\n",
       ".xr-var-item label,\n",
       ".xr-var-item > .xr-var-name span {\n",
       "  background-color: var(--xr-background-color-row-even);\n",
       "  margin-bottom: 0;\n",
       "}\n",
       "\n",
       ".xr-var-item > .xr-var-name:hover span {\n",
       "  padding-right: 5px;\n",
       "}\n",
       "\n",
       ".xr-var-list > li:nth-child(odd) > div,\n",
       ".xr-var-list > li:nth-child(odd) > label,\n",
       ".xr-var-list > li:nth-child(odd) > .xr-var-name span {\n",
       "  background-color: var(--xr-background-color-row-odd);\n",
       "}\n",
       "\n",
       ".xr-var-name {\n",
       "  grid-column: 1;\n",
       "}\n",
       "\n",
       ".xr-var-dims {\n",
       "  grid-column: 2;\n",
       "}\n",
       "\n",
       ".xr-var-dtype {\n",
       "  grid-column: 3;\n",
       "  text-align: right;\n",
       "  color: var(--xr-font-color2);\n",
       "}\n",
       "\n",
       ".xr-var-preview {\n",
       "  grid-column: 4;\n",
       "}\n",
       "\n",
       ".xr-index-preview {\n",
       "  grid-column: 2 / 5;\n",
       "  color: var(--xr-font-color2);\n",
       "}\n",
       "\n",
       ".xr-var-name,\n",
       ".xr-var-dims,\n",
       ".xr-var-dtype,\n",
       ".xr-preview,\n",
       ".xr-attrs dt {\n",
       "  white-space: nowrap;\n",
       "  overflow: hidden;\n",
       "  text-overflow: ellipsis;\n",
       "  padding-right: 10px;\n",
       "}\n",
       "\n",
       ".xr-var-name:hover,\n",
       ".xr-var-dims:hover,\n",
       ".xr-var-dtype:hover,\n",
       ".xr-attrs dt:hover {\n",
       "  overflow: visible;\n",
       "  width: auto;\n",
       "  z-index: 1;\n",
       "}\n",
       "\n",
       ".xr-var-attrs,\n",
       ".xr-var-data,\n",
       ".xr-index-data {\n",
       "  display: none;\n",
       "  background-color: var(--xr-background-color) !important;\n",
       "  padding-bottom: 5px !important;\n",
       "}\n",
       "\n",
       ".xr-var-attrs-in:checked ~ .xr-var-attrs,\n",
       ".xr-var-data-in:checked ~ .xr-var-data,\n",
       ".xr-index-data-in:checked ~ .xr-index-data {\n",
       "  display: block;\n",
       "}\n",
       "\n",
       ".xr-var-data > table {\n",
       "  float: right;\n",
       "}\n",
       "\n",
       ".xr-var-name span,\n",
       ".xr-var-data,\n",
       ".xr-index-name div,\n",
       ".xr-index-data,\n",
       ".xr-attrs {\n",
       "  padding-left: 25px !important;\n",
       "}\n",
       "\n",
       ".xr-attrs,\n",
       ".xr-var-attrs,\n",
       ".xr-var-data,\n",
       ".xr-index-data {\n",
       "  grid-column: 1 / -1;\n",
       "}\n",
       "\n",
       "dl.xr-attrs {\n",
       "  padding: 0;\n",
       "  margin: 0;\n",
       "  display: grid;\n",
       "  grid-template-columns: 125px auto;\n",
       "}\n",
       "\n",
       ".xr-attrs dt,\n",
       ".xr-attrs dd {\n",
       "  padding: 0;\n",
       "  margin: 0;\n",
       "  float: left;\n",
       "  padding-right: 10px;\n",
       "  width: auto;\n",
       "}\n",
       "\n",
       ".xr-attrs dt {\n",
       "  font-weight: normal;\n",
       "  grid-column: 1;\n",
       "}\n",
       "\n",
       ".xr-attrs dt:hover span {\n",
       "  display: inline-block;\n",
       "  background: var(--xr-background-color);\n",
       "  padding-right: 10px;\n",
       "}\n",
       "\n",
       ".xr-attrs dd {\n",
       "  grid-column: 2;\n",
       "  white-space: pre-wrap;\n",
       "  word-break: break-all;\n",
       "}\n",
       "\n",
       ".xr-icon-database,\n",
       ".xr-icon-file-text2,\n",
       ".xr-no-icon {\n",
       "  display: inline-block;\n",
       "  vertical-align: middle;\n",
       "  width: 1em;\n",
       "  height: 1.5em !important;\n",
       "  stroke-width: 0;\n",
       "  stroke: currentColor;\n",
       "  fill: currentColor;\n",
       "}\n",
       "</style><pre class='xr-text-repr-fallback'>&lt;xarray.Dataset&gt;\n",
       "Dimensions:             (time: 1001, component: 3)\n",
       "Coordinates:\n",
       "  * time                (time) float32 0.0 0.01 0.02 0.03 ... 9.98 9.99 10.0\n",
       "  * component           (component) &lt;U1 &#x27;x&#x27; &#x27;y&#x27; &#x27;z&#x27;\n",
       "Data variables:\n",
       "    simulation          (component, time) float32 ...\n",
       "    observations        (component, time) float32 ...\n",
       "    observations_noisy  (component, time) float64 ...</pre><div class='xr-wrap' style='display:none'><div class='xr-header'><div class='xr-obj-type'>xarray.Dataset</div></div><ul class='xr-sections'><li class='xr-section-item'><input id='section-032cdae5-a8f4-4043-8bfb-6de1b3470df6' class='xr-section-summary-in' type='checkbox' disabled ><label for='section-032cdae5-a8f4-4043-8bfb-6de1b3470df6' class='xr-section-summary'  title='Expand/collapse section'>Dimensions:</label><div class='xr-section-inline-details'><ul class='xr-dim-list'><li><span class='xr-has-index'>time</span>: 1001</li><li><span class='xr-has-index'>component</span>: 3</li></ul></div><div class='xr-section-details'></div></li><li class='xr-section-item'><input id='section-9b80f7fe-97dd-4381-af22-b4bd32b7b706' class='xr-section-summary-in' type='checkbox'  checked><label for='section-9b80f7fe-97dd-4381-af22-b4bd32b7b706' class='xr-section-summary' >Coordinates: <span>(2)</span></label><div class='xr-section-inline-details'></div><div class='xr-section-details'><ul class='xr-var-list'><li class='xr-var-item'><div class='xr-var-name'><span class='xr-has-index'>time</span></div><div class='xr-var-dims'>(time)</div><div class='xr-var-dtype'>float32</div><div class='xr-var-preview xr-preview'>0.0 0.01 0.02 ... 9.98 9.99 10.0</div><input id='attrs-b33fe5ed-0819-48f0-ac88-8f0b9c6906c2' class='xr-var-attrs-in' type='checkbox' disabled><label for='attrs-b33fe5ed-0819-48f0-ac88-8f0b9c6906c2' title='Show/Hide attributes'><svg class='icon xr-icon-file-text2'><use xlink:href='#icon-file-text2'></use></svg></label><input id='data-1f6e2883-c117-49d2-83d3-ff1f54d182b0' class='xr-var-data-in' type='checkbox'><label for='data-1f6e2883-c117-49d2-83d3-ff1f54d182b0' title='Show/Hide data repr'><svg class='icon xr-icon-database'><use xlink:href='#icon-database'></use></svg></label><div class='xr-var-attrs'><dl class='xr-attrs'></dl></div><div class='xr-var-data'><pre>array([ 0.  ,  0.01,  0.02, ...,  9.98,  9.99, 10.  ], dtype=float32)</pre></div></li><li class='xr-var-item'><div class='xr-var-name'><span class='xr-has-index'>component</span></div><div class='xr-var-dims'>(component)</div><div class='xr-var-dtype'>&lt;U1</div><div class='xr-var-preview xr-preview'>&#x27;x&#x27; &#x27;y&#x27; &#x27;z&#x27;</div><input id='attrs-fe19896c-a814-40d6-b121-d50d3316fdd2' class='xr-var-attrs-in' type='checkbox' disabled><label for='attrs-fe19896c-a814-40d6-b121-d50d3316fdd2' title='Show/Hide attributes'><svg class='icon xr-icon-file-text2'><use xlink:href='#icon-file-text2'></use></svg></label><input id='data-9e9d2c76-a3ea-4980-8f42-89e309589b33' class='xr-var-data-in' type='checkbox'><label for='data-9e9d2c76-a3ea-4980-8f42-89e309589b33' title='Show/Hide data repr'><svg class='icon xr-icon-database'><use xlink:href='#icon-database'></use></svg></label><div class='xr-var-attrs'><dl class='xr-attrs'></dl></div><div class='xr-var-data'><pre>array([&#x27;x&#x27;, &#x27;y&#x27;, &#x27;z&#x27;], dtype=&#x27;&lt;U1&#x27;)</pre></div></li></ul></div></li><li class='xr-section-item'><input id='section-84a3fa2c-c2f1-4690-9a63-435fdd098914' class='xr-section-summary-in' type='checkbox'  checked><label for='section-84a3fa2c-c2f1-4690-9a63-435fdd098914' class='xr-section-summary' >Data variables: <span>(3)</span></label><div class='xr-section-inline-details'></div><div class='xr-section-details'><ul class='xr-var-list'><li class='xr-var-item'><div class='xr-var-name'><span>simulation</span></div><div class='xr-var-dims'>(component, time)</div><div class='xr-var-dtype'>float32</div><div class='xr-var-preview xr-preview'>...</div><input id='attrs-9c20dea1-daa4-42e6-be73-fbe86c62148a' class='xr-var-attrs-in' type='checkbox' ><label for='attrs-9c20dea1-daa4-42e6-be73-fbe86c62148a' title='Show/Hide attributes'><svg class='icon xr-icon-file-text2'><use xlink:href='#icon-file-text2'></use></svg></label><input id='data-07f0e0c7-c416-4e39-b389-b39a6e52979d' class='xr-var-data-in' type='checkbox'><label for='data-07f0e0c7-c416-4e39-b389-b39a6e52979d' title='Show/Hide data repr'><svg class='icon xr-icon-database'><use xlink:href='#icon-database'></use></svg></label><div class='xr-var-attrs'><dl class='xr-attrs'><dt><span>ode :</span></dt><dd>lorenz_63</dd><dt><span>sigma :</span></dt><dd>10.0</dd><dt><span>beta :</span></dt><dd>2.6666667</dd><dt><span>rho :</span></dt><dd>28.0</dd></dl></div><div class='xr-var-data'><pre>[3003 values with dtype=float32]</pre></div></li><li class='xr-var-item'><div class='xr-var-name'><span>observations</span></div><div class='xr-var-dims'>(component, time)</div><div class='xr-var-dtype'>float32</div><div class='xr-var-preview xr-preview'>...</div><input id='attrs-ecc1b941-8ed5-45fa-be32-6a4403bcad10' class='xr-var-attrs-in' type='checkbox' ><label for='attrs-ecc1b941-8ed5-45fa-be32-6a4403bcad10' title='Show/Hide attributes'><svg class='icon xr-icon-file-text2'><use xlink:href='#icon-file-text2'></use></svg></label><input id='data-27dab50a-c3ac-416c-94fa-d85283dd2d6c' class='xr-var-data-in' type='checkbox'><label for='data-27dab50a-c3ac-416c-94fa-d85283dd2d6c' title='Show/Hide data repr'><svg class='icon xr-icon-database'><use xlink:href='#icon-database'></use></svg></label><div class='xr-var-attrs'><dl class='xr-attrs'><dt><span>ode :</span></dt><dd>lorenz_63</dd><dt><span>sigma :</span></dt><dd>10.0</dd><dt><span>beta :</span></dt><dd>2.6666667</dd><dt><span>rho :</span></dt><dd>28.0</dd></dl></div><div class='xr-var-data'><pre>[3003 values with dtype=float32]</pre></div></li><li class='xr-var-item'><div class='xr-var-name'><span>observations_noisy</span></div><div class='xr-var-dims'>(component, time)</div><div class='xr-var-dtype'>float64</div><div class='xr-var-preview xr-preview'>...</div><input id='attrs-c364f30c-12b6-434c-a08b-66ea17d1f34c' class='xr-var-attrs-in' type='checkbox' disabled><label for='attrs-c364f30c-12b6-434c-a08b-66ea17d1f34c' title='Show/Hide attributes'><svg class='icon xr-icon-file-text2'><use xlink:href='#icon-file-text2'></use></svg></label><input id='data-a2654180-553b-4946-84a7-1f19e8cbeb07' class='xr-var-data-in' type='checkbox'><label for='data-a2654180-553b-4946-84a7-1f19e8cbeb07' title='Show/Hide data repr'><svg class='icon xr-icon-database'><use xlink:href='#icon-database'></use></svg></label><div class='xr-var-attrs'><dl class='xr-attrs'></dl></div><div class='xr-var-data'><pre>[3003 values with dtype=float64]</pre></div></li></ul></div></li><li class='xr-section-item'><input id='section-6c1d4200-1ffb-4db2-be43-ebc29e5dd5e1' class='xr-section-summary-in' type='checkbox'  ><label for='section-6c1d4200-1ffb-4db2-be43-ebc29e5dd5e1' class='xr-section-summary' >Indexes: <span>(2)</span></label><div class='xr-section-inline-details'></div><div class='xr-section-details'><ul class='xr-var-list'><li class='xr-var-item'><div class='xr-index-name'><div>time</div></div><div class='xr-index-preview'>PandasIndex</div><div></div><input id='index-102d6c82-3352-4925-879a-cf7fd0eff50f' class='xr-index-data-in' type='checkbox'/><label for='index-102d6c82-3352-4925-879a-cf7fd0eff50f' title='Show/Hide index repr'><svg class='icon xr-icon-database'><use xlink:href='#icon-database'></use></svg></label><div class='xr-index-data'><pre>PandasIndex(Index([                 0.0, 0.009999999776482582, 0.019999999552965164,\n",
       "       0.029999999329447746,  0.03999999910593033,  0.05000000074505806,\n",
       "        0.05999999865889549,  0.07000000029802322,  0.07999999821186066,\n",
       "        0.09000000357627869,\n",
       "       ...\n",
       "           9.90999984741211,    9.920000076293945,    9.930000305175781,\n",
       "            9.9399995803833,    9.949999809265137,    9.960000038146973,\n",
       "          9.970000267028809,    9.979999542236328,    9.989999771118164,\n",
       "                       10.0],\n",
       "      dtype=&#x27;float32&#x27;, name=&#x27;time&#x27;, length=1001))</pre></div></li><li class='xr-var-item'><div class='xr-index-name'><div>component</div></div><div class='xr-index-preview'>PandasIndex</div><div></div><input id='index-14ada4ee-b810-44d4-b15e-5f01256b3ed2' class='xr-index-data-in' type='checkbox'/><label for='index-14ada4ee-b810-44d4-b15e-5f01256b3ed2' title='Show/Hide index repr'><svg class='icon xr-icon-database'><use xlink:href='#icon-database'></use></svg></label><div class='xr-index-data'><pre>PandasIndex(Index([&#x27;x&#x27;, &#x27;y&#x27;, &#x27;z&#x27;], dtype=&#x27;object&#x27;, name=&#x27;component&#x27;))</pre></div></li></ul></div></li><li class='xr-section-item'><input id='section-82e465f6-b438-4b72-bf93-863d9e29193d' class='xr-section-summary-in' type='checkbox' disabled ><label for='section-82e465f6-b438-4b72-bf93-863d9e29193d' class='xr-section-summary'  title='Expand/collapse section'>Attributes: <span>(0)</span></label><div class='xr-section-inline-details'></div><div class='xr-section-details'><dl class='xr-attrs'></dl></div></li></ul></div></div>"
      ],
      "text/plain": [
       "<xarray.Dataset>\n",
       "Dimensions:             (time: 1001, component: 3)\n",
       "Coordinates:\n",
       "  * time                (time) float32 0.0 0.01 0.02 0.03 ... 9.98 9.99 10.0\n",
       "  * component           (component) <U1 'x' 'y' 'z'\n",
       "Data variables:\n",
       "    simulation          (component, time) float32 ...\n",
       "    observations        (component, time) float32 ...\n",
       "    observations_noisy  (component, time) float64 ..."
      ]
     },
     "execution_count": 52,
     "metadata": {},
     "output_type": "execute_result"
    }
   ],
   "source": [
    "data"
   ]
  },
  {
   "cell_type": "markdown",
   "id": "8e45240d-1c09-4fec-b3c7-35af13d22d58",
   "metadata": {},
   "source": [
    "### Dynamical System"
   ]
  },
  {
   "cell_type": "code",
   "execution_count": 53,
   "id": "fb112054-1084-4d02-91a9-52f84ddab496",
   "metadata": {
    "tags": []
   },
   "outputs": [],
   "source": [
    "from oi_toolz._src.models.l63 import L63Params, L63State, l63_equation_of_motion"
   ]
  },
  {
   "cell_type": "markdown",
   "id": "d8e0ab6d-47ab-44f5-84cb-41cb2c165e95",
   "metadata": {},
   "source": [
    "#### Observation Operator"
   ]
  },
  {
   "cell_type": "code",
   "execution_count": 54,
   "id": "381366b9-db28-43f7-982a-40f39655f73c",
   "metadata": {
    "tags": []
   },
   "outputs": [],
   "source": [
    "def obs_op(u):\n",
    "    return u\n",
    "\n",
    "def obs_op_der(u):\n",
    "    return jnp.eye(u.shape[0])"
   ]
  },
  {
   "cell_type": "code",
   "execution_count": null,
   "id": "6059c8d9-e2c4-4804-aa15-8656a673408e",
   "metadata": {
    "tags": []
   },
   "outputs": [],
   "source": []
  },
  {
   "cell_type": "markdown",
   "id": "e8a4db02-ae22-4f86-9c8b-5e73782568a5",
   "metadata": {},
   "source": [
    "#### Parameters"
   ]
  },
  {
   "cell_type": "code",
   "execution_count": 55,
   "id": "a0828e18-fec3-472d-9ece-758bba431552",
   "metadata": {
    "tags": []
   },
   "outputs": [],
   "source": [
    "num_dim_x = num_dim_y = 3\n",
    "\n",
    "params = L63Params(\n",
    "    sigma=data.simulation.attrs[\"sigma\"].astype(np.float64),\n",
    "    rho=data.simulation.attrs[\"rho\"].astype(np.float64),\n",
    "    beta=data.simulation.attrs[\"beta\"].astype(np.float64),\n",
    ")\n",
    "\n",
    "sigma_y = 0.15\n",
    "R = sigma_y**2 * cola.ops.Diagonal(jnp.ones(num_dim_y))\n",
    "H = jnp.eye(num_dim_y)"
   ]
  },
  {
   "cell_type": "code",
   "execution_count": 56,
   "id": "07ea13d3-f0e8-4401-a8d5-f424aef60101",
   "metadata": {
    "tags": []
   },
   "outputs": [],
   "source": [
    "ts = data.time.values\n",
    "dt = ts[1] - ts[0]"
   ]
  },
  {
   "cell_type": "code",
   "execution_count": 57,
   "id": "27aef69b-6df5-4096-98d3-9dd69aaf4644",
   "metadata": {
    "tags": []
   },
   "outputs": [],
   "source": [
    "from tqdm.auto import tqdm"
   ]
  },
  {
   "cell_type": "code",
   "execution_count": null,
   "id": "2122622a-31be-4a68-b8c6-0706bf875d52",
   "metadata": {
    "tags": []
   },
   "outputs": [],
   "source": []
  },
  {
   "cell_type": "code",
   "execution_count": 58,
   "id": "8f8a16c6-4c05-41fa-bed8-3cd6f775e738",
   "metadata": {
    "tags": []
   },
   "outputs": [],
   "source": [
    "data[\"ts_diff\"] = data.time.diff(\"time\")\n",
    "\n",
    "dt = data[\"ts_diff\"].values[1]"
   ]
  },
  {
   "cell_type": "code",
   "execution_count": 59,
   "id": "39a7b726-83b1-4040-9336-db04228811de",
   "metadata": {
    "tags": []
   },
   "outputs": [
    {
     "data": {
      "text/plain": [
       "0.01"
      ]
     },
     "execution_count": 59,
     "metadata": {},
     "output_type": "execute_result"
    }
   ],
   "source": [
    "dt"
   ]
  },
  {
   "cell_type": "markdown",
   "id": "58231d92-2b9f-43ca-ab23-22dee7dd2fb1",
   "metadata": {},
   "source": [
    "### Missing Data"
   ]
  },
  {
   "cell_type": "code",
   "execution_count": 60,
   "id": "67ed6425-2c77-40a4-b0e0-3bc7a450302d",
   "metadata": {
    "tags": []
   },
   "outputs": [],
   "source": [
    "dt_obs = 0.2\n",
    "t_max_obs = 5\n",
    "t_steps_obs = int(t_max_obs/dt_obs)"
   ]
  },
  {
   "cell_type": "code",
   "execution_count": 61,
   "id": "77467248-84c4-4e92-b8d4-54aa2bf6c6d4",
   "metadata": {
    "tags": []
   },
   "outputs": [],
   "source": [
    "ind_obs = np.linspace(int(dt_obs/dt), int(t_max_obs/dt), t_steps_obs).astype(int)"
   ]
  },
  {
   "cell_type": "code",
   "execution_count": 62,
   "id": "f63a88fd-cbd3-402e-a578-6dd34f9d5cae",
   "metadata": {
    "tags": []
   },
   "outputs": [],
   "source": [
    "data[\"observations\"] =  xr.full_like(data[\"simulation\"], np.nan)\n",
    "data[\"observations\"][:, ind_obs] = data[\"simulation\"][:, ind_obs]"
   ]
  },
  {
   "cell_type": "markdown",
   "id": "17196d9b-6f93-4087-88fe-2d233b640838",
   "metadata": {},
   "source": [
    "#### Noise"
   ]
  },
  {
   "cell_type": "code",
   "execution_count": 63,
   "id": "e3d34e3c-cd48-400a-a479-958e36bb763b",
   "metadata": {
    "tags": []
   },
   "outputs": [],
   "source": [
    "rng = np.random.RandomState(123)\n",
    "sigma_y = 0.15\n",
    "\n",
    "noise =  sigma_y**2 * rng.randn(*data[\"observations\"].shape)\n",
    "\n",
    "data[\"observations_noisy\"] = data[\"observations\"] + noise"
   ]
  },
  {
   "cell_type": "code",
   "execution_count": 64,
   "id": "d10c1009-f73c-47da-b76e-a8dba4bda2e9",
   "metadata": {
    "tags": []
   },
   "outputs": [
    {
     "data": {
      "text/plain": [
       "array([[-0.02442669,  0.02244027,  0.00636702, ...,  0.01058093,\n",
       "        -0.02500719, -0.01684862],\n",
       "       [ 0.01277088,  0.01615839, -0.02248607, ...,  0.00030533,\n",
       "        -0.03992003, -0.02703099],\n",
       "       [ 0.02466578,  0.01937333, -0.03420826, ..., -0.01013847,\n",
       "         0.01371578,  0.02640925]])"
      ]
     },
     "execution_count": 64,
     "metadata": {},
     "output_type": "execute_result"
    }
   ],
   "source": [
    "noise"
   ]
  },
  {
   "cell_type": "code",
   "execution_count": 65,
   "id": "3680aa43-11bf-40a9-b4c3-75039258477d",
   "metadata": {
    "tags": []
   },
   "outputs": [],
   "source": [
    "# initial parameters\n",
    "mu_u = jnp.asarray([2.0, 3.0, 4.0])\n",
    "sigma_x = cola.ops.Diagonal(0.1*jnp.ones(3))\n",
    "sigma_y = cola.ops.Diagonal(0.15*jnp.ones(3))"
   ]
  },
  {
   "cell_type": "code",
   "execution_count": null,
   "id": "fe0b2956-615e-4aa0-a73e-39e21e099cc1",
   "metadata": {},
   "outputs": [],
   "source": []
  },
  {
   "cell_type": "code",
   "execution_count": 66,
   "id": "0d3a8a10-724f-4ec7-a3cc-e90cfd23a33f",
   "metadata": {
    "tags": []
   },
   "outputs": [],
   "source": [
    "solver = dfx.Tsit5()\n",
    "stepsize_controller = dfx.PIDController(rtol=1e-7, atol=1e-7)"
   ]
  },
  {
   "cell_type": "code",
   "execution_count": 67,
   "id": "972b4a99-1e7b-474e-b039-7f17e4841d47",
   "metadata": {
    "tags": []
   },
   "outputs": [],
   "source": [
    "data[\"predictions\"] = np.nan * data[\"simulation\"]"
   ]
  },
  {
   "cell_type": "code",
   "execution_count": 68,
   "id": "bcc91b29-7360-4b28-a5a1-a83f2b18e103",
   "metadata": {
    "tags": []
   },
   "outputs": [
    {
     "data": {
      "text/html": [
       "<div><svg style=\"position: absolute; width: 0; height: 0; overflow: hidden\">\n",
       "<defs>\n",
       "<symbol id=\"icon-database\" viewBox=\"0 0 32 32\">\n",
       "<path d=\"M16 0c-8.837 0-16 2.239-16 5v4c0 2.761 7.163 5 16 5s16-2.239 16-5v-4c0-2.761-7.163-5-16-5z\"></path>\n",
       "<path d=\"M16 17c-8.837 0-16-2.239-16-5v6c0 2.761 7.163 5 16 5s16-2.239 16-5v-6c0 2.761-7.163 5-16 5z\"></path>\n",
       "<path d=\"M16 26c-8.837 0-16-2.239-16-5v6c0 2.761 7.163 5 16 5s16-2.239 16-5v-6c0 2.761-7.163 5-16 5z\"></path>\n",
       "</symbol>\n",
       "<symbol id=\"icon-file-text2\" viewBox=\"0 0 32 32\">\n",
       "<path d=\"M28.681 7.159c-0.694-0.947-1.662-2.053-2.724-3.116s-2.169-2.030-3.116-2.724c-1.612-1.182-2.393-1.319-2.841-1.319h-15.5c-1.378 0-2.5 1.121-2.5 2.5v27c0 1.378 1.122 2.5 2.5 2.5h23c1.378 0 2.5-1.122 2.5-2.5v-19.5c0-0.448-0.137-1.23-1.319-2.841zM24.543 5.457c0.959 0.959 1.712 1.825 2.268 2.543h-4.811v-4.811c0.718 0.556 1.584 1.309 2.543 2.268zM28 29.5c0 0.271-0.229 0.5-0.5 0.5h-23c-0.271 0-0.5-0.229-0.5-0.5v-27c0-0.271 0.229-0.5 0.5-0.5 0 0 15.499-0 15.5 0v7c0 0.552 0.448 1 1 1h7v19.5z\"></path>\n",
       "<path d=\"M23 26h-14c-0.552 0-1-0.448-1-1s0.448-1 1-1h14c0.552 0 1 0.448 1 1s-0.448 1-1 1z\"></path>\n",
       "<path d=\"M23 22h-14c-0.552 0-1-0.448-1-1s0.448-1 1-1h14c0.552 0 1 0.448 1 1s-0.448 1-1 1z\"></path>\n",
       "<path d=\"M23 18h-14c-0.552 0-1-0.448-1-1s0.448-1 1-1h14c0.552 0 1 0.448 1 1s-0.448 1-1 1z\"></path>\n",
       "</symbol>\n",
       "</defs>\n",
       "</svg>\n",
       "<style>/* CSS stylesheet for displaying xarray objects in jupyterlab.\n",
       " *\n",
       " */\n",
       "\n",
       ":root {\n",
       "  --xr-font-color0: var(--jp-content-font-color0, rgba(0, 0, 0, 1));\n",
       "  --xr-font-color2: var(--jp-content-font-color2, rgba(0, 0, 0, 0.54));\n",
       "  --xr-font-color3: var(--jp-content-font-color3, rgba(0, 0, 0, 0.38));\n",
       "  --xr-border-color: var(--jp-border-color2, #e0e0e0);\n",
       "  --xr-disabled-color: var(--jp-layout-color3, #bdbdbd);\n",
       "  --xr-background-color: var(--jp-layout-color0, white);\n",
       "  --xr-background-color-row-even: var(--jp-layout-color1, white);\n",
       "  --xr-background-color-row-odd: var(--jp-layout-color2, #eeeeee);\n",
       "}\n",
       "\n",
       "html[theme=dark],\n",
       "body[data-theme=dark],\n",
       "body.vscode-dark {\n",
       "  --xr-font-color0: rgba(255, 255, 255, 1);\n",
       "  --xr-font-color2: rgba(255, 255, 255, 0.54);\n",
       "  --xr-font-color3: rgba(255, 255, 255, 0.38);\n",
       "  --xr-border-color: #1F1F1F;\n",
       "  --xr-disabled-color: #515151;\n",
       "  --xr-background-color: #111111;\n",
       "  --xr-background-color-row-even: #111111;\n",
       "  --xr-background-color-row-odd: #313131;\n",
       "}\n",
       "\n",
       ".xr-wrap {\n",
       "  display: block !important;\n",
       "  min-width: 300px;\n",
       "  max-width: 700px;\n",
       "}\n",
       "\n",
       ".xr-text-repr-fallback {\n",
       "  /* fallback to plain text repr when CSS is not injected (untrusted notebook) */\n",
       "  display: none;\n",
       "}\n",
       "\n",
       ".xr-header {\n",
       "  padding-top: 6px;\n",
       "  padding-bottom: 6px;\n",
       "  margin-bottom: 4px;\n",
       "  border-bottom: solid 1px var(--xr-border-color);\n",
       "}\n",
       "\n",
       ".xr-header > div,\n",
       ".xr-header > ul {\n",
       "  display: inline;\n",
       "  margin-top: 0;\n",
       "  margin-bottom: 0;\n",
       "}\n",
       "\n",
       ".xr-obj-type,\n",
       ".xr-array-name {\n",
       "  margin-left: 2px;\n",
       "  margin-right: 10px;\n",
       "}\n",
       "\n",
       ".xr-obj-type {\n",
       "  color: var(--xr-font-color2);\n",
       "}\n",
       "\n",
       ".xr-sections {\n",
       "  padding-left: 0 !important;\n",
       "  display: grid;\n",
       "  grid-template-columns: 150px auto auto 1fr 20px 20px;\n",
       "}\n",
       "\n",
       ".xr-section-item {\n",
       "  display: contents;\n",
       "}\n",
       "\n",
       ".xr-section-item input {\n",
       "  display: none;\n",
       "}\n",
       "\n",
       ".xr-section-item input + label {\n",
       "  color: var(--xr-disabled-color);\n",
       "}\n",
       "\n",
       ".xr-section-item input:enabled + label {\n",
       "  cursor: pointer;\n",
       "  color: var(--xr-font-color2);\n",
       "}\n",
       "\n",
       ".xr-section-item input:enabled + label:hover {\n",
       "  color: var(--xr-font-color0);\n",
       "}\n",
       "\n",
       ".xr-section-summary {\n",
       "  grid-column: 1;\n",
       "  color: var(--xr-font-color2);\n",
       "  font-weight: 500;\n",
       "}\n",
       "\n",
       ".xr-section-summary > span {\n",
       "  display: inline-block;\n",
       "  padding-left: 0.5em;\n",
       "}\n",
       "\n",
       ".xr-section-summary-in:disabled + label {\n",
       "  color: var(--xr-font-color2);\n",
       "}\n",
       "\n",
       ".xr-section-summary-in + label:before {\n",
       "  display: inline-block;\n",
       "  content: '►';\n",
       "  font-size: 11px;\n",
       "  width: 15px;\n",
       "  text-align: center;\n",
       "}\n",
       "\n",
       ".xr-section-summary-in:disabled + label:before {\n",
       "  color: var(--xr-disabled-color);\n",
       "}\n",
       "\n",
       ".xr-section-summary-in:checked + label:before {\n",
       "  content: '▼';\n",
       "}\n",
       "\n",
       ".xr-section-summary-in:checked + label > span {\n",
       "  display: none;\n",
       "}\n",
       "\n",
       ".xr-section-summary,\n",
       ".xr-section-inline-details {\n",
       "  padding-top: 4px;\n",
       "  padding-bottom: 4px;\n",
       "}\n",
       "\n",
       ".xr-section-inline-details {\n",
       "  grid-column: 2 / -1;\n",
       "}\n",
       "\n",
       ".xr-section-details {\n",
       "  display: none;\n",
       "  grid-column: 1 / -1;\n",
       "  margin-bottom: 5px;\n",
       "}\n",
       "\n",
       ".xr-section-summary-in:checked ~ .xr-section-details {\n",
       "  display: contents;\n",
       "}\n",
       "\n",
       ".xr-array-wrap {\n",
       "  grid-column: 1 / -1;\n",
       "  display: grid;\n",
       "  grid-template-columns: 20px auto;\n",
       "}\n",
       "\n",
       ".xr-array-wrap > label {\n",
       "  grid-column: 1;\n",
       "  vertical-align: top;\n",
       "}\n",
       "\n",
       ".xr-preview {\n",
       "  color: var(--xr-font-color3);\n",
       "}\n",
       "\n",
       ".xr-array-preview,\n",
       ".xr-array-data {\n",
       "  padding: 0 5px !important;\n",
       "  grid-column: 2;\n",
       "}\n",
       "\n",
       ".xr-array-data,\n",
       ".xr-array-in:checked ~ .xr-array-preview {\n",
       "  display: none;\n",
       "}\n",
       "\n",
       ".xr-array-in:checked ~ .xr-array-data,\n",
       ".xr-array-preview {\n",
       "  display: inline-block;\n",
       "}\n",
       "\n",
       ".xr-dim-list {\n",
       "  display: inline-block !important;\n",
       "  list-style: none;\n",
       "  padding: 0 !important;\n",
       "  margin: 0;\n",
       "}\n",
       "\n",
       ".xr-dim-list li {\n",
       "  display: inline-block;\n",
       "  padding: 0;\n",
       "  margin: 0;\n",
       "}\n",
       "\n",
       ".xr-dim-list:before {\n",
       "  content: '(';\n",
       "}\n",
       "\n",
       ".xr-dim-list:after {\n",
       "  content: ')';\n",
       "}\n",
       "\n",
       ".xr-dim-list li:not(:last-child):after {\n",
       "  content: ',';\n",
       "  padding-right: 5px;\n",
       "}\n",
       "\n",
       ".xr-has-index {\n",
       "  font-weight: bold;\n",
       "}\n",
       "\n",
       ".xr-var-list,\n",
       ".xr-var-item {\n",
       "  display: contents;\n",
       "}\n",
       "\n",
       ".xr-var-item > div,\n",
       ".xr-var-item label,\n",
       ".xr-var-item > .xr-var-name span {\n",
       "  background-color: var(--xr-background-color-row-even);\n",
       "  margin-bottom: 0;\n",
       "}\n",
       "\n",
       ".xr-var-item > .xr-var-name:hover span {\n",
       "  padding-right: 5px;\n",
       "}\n",
       "\n",
       ".xr-var-list > li:nth-child(odd) > div,\n",
       ".xr-var-list > li:nth-child(odd) > label,\n",
       ".xr-var-list > li:nth-child(odd) > .xr-var-name span {\n",
       "  background-color: var(--xr-background-color-row-odd);\n",
       "}\n",
       "\n",
       ".xr-var-name {\n",
       "  grid-column: 1;\n",
       "}\n",
       "\n",
       ".xr-var-dims {\n",
       "  grid-column: 2;\n",
       "}\n",
       "\n",
       ".xr-var-dtype {\n",
       "  grid-column: 3;\n",
       "  text-align: right;\n",
       "  color: var(--xr-font-color2);\n",
       "}\n",
       "\n",
       ".xr-var-preview {\n",
       "  grid-column: 4;\n",
       "}\n",
       "\n",
       ".xr-index-preview {\n",
       "  grid-column: 2 / 5;\n",
       "  color: var(--xr-font-color2);\n",
       "}\n",
       "\n",
       ".xr-var-name,\n",
       ".xr-var-dims,\n",
       ".xr-var-dtype,\n",
       ".xr-preview,\n",
       ".xr-attrs dt {\n",
       "  white-space: nowrap;\n",
       "  overflow: hidden;\n",
       "  text-overflow: ellipsis;\n",
       "  padding-right: 10px;\n",
       "}\n",
       "\n",
       ".xr-var-name:hover,\n",
       ".xr-var-dims:hover,\n",
       ".xr-var-dtype:hover,\n",
       ".xr-attrs dt:hover {\n",
       "  overflow: visible;\n",
       "  width: auto;\n",
       "  z-index: 1;\n",
       "}\n",
       "\n",
       ".xr-var-attrs,\n",
       ".xr-var-data,\n",
       ".xr-index-data {\n",
       "  display: none;\n",
       "  background-color: var(--xr-background-color) !important;\n",
       "  padding-bottom: 5px !important;\n",
       "}\n",
       "\n",
       ".xr-var-attrs-in:checked ~ .xr-var-attrs,\n",
       ".xr-var-data-in:checked ~ .xr-var-data,\n",
       ".xr-index-data-in:checked ~ .xr-index-data {\n",
       "  display: block;\n",
       "}\n",
       "\n",
       ".xr-var-data > table {\n",
       "  float: right;\n",
       "}\n",
       "\n",
       ".xr-var-name span,\n",
       ".xr-var-data,\n",
       ".xr-index-name div,\n",
       ".xr-index-data,\n",
       ".xr-attrs {\n",
       "  padding-left: 25px !important;\n",
       "}\n",
       "\n",
       ".xr-attrs,\n",
       ".xr-var-attrs,\n",
       ".xr-var-data,\n",
       ".xr-index-data {\n",
       "  grid-column: 1 / -1;\n",
       "}\n",
       "\n",
       "dl.xr-attrs {\n",
       "  padding: 0;\n",
       "  margin: 0;\n",
       "  display: grid;\n",
       "  grid-template-columns: 125px auto;\n",
       "}\n",
       "\n",
       ".xr-attrs dt,\n",
       ".xr-attrs dd {\n",
       "  padding: 0;\n",
       "  margin: 0;\n",
       "  float: left;\n",
       "  padding-right: 10px;\n",
       "  width: auto;\n",
       "}\n",
       "\n",
       ".xr-attrs dt {\n",
       "  font-weight: normal;\n",
       "  grid-column: 1;\n",
       "}\n",
       "\n",
       ".xr-attrs dt:hover span {\n",
       "  display: inline-block;\n",
       "  background: var(--xr-background-color);\n",
       "  padding-right: 10px;\n",
       "}\n",
       "\n",
       ".xr-attrs dd {\n",
       "  grid-column: 2;\n",
       "  white-space: pre-wrap;\n",
       "  word-break: break-all;\n",
       "}\n",
       "\n",
       ".xr-icon-database,\n",
       ".xr-icon-file-text2,\n",
       ".xr-no-icon {\n",
       "  display: inline-block;\n",
       "  vertical-align: middle;\n",
       "  width: 1em;\n",
       "  height: 1.5em !important;\n",
       "  stroke-width: 0;\n",
       "  stroke: currentColor;\n",
       "  fill: currentColor;\n",
       "}\n",
       "</style><pre class='xr-text-repr-fallback'>&lt;xarray.DataArray &#x27;predictions&#x27; (component: 3, time: 1001)&gt;\n",
       "array([[nan, nan, nan, ..., nan, nan, nan],\n",
       "       [nan, nan, nan, ..., nan, nan, nan],\n",
       "       [nan, nan, nan, ..., nan, nan, nan]], dtype=float32)\n",
       "Coordinates:\n",
       "  * time       (time) float32 0.0 0.01 0.02 0.03 0.04 ... 9.97 9.98 9.99 10.0\n",
       "  * component  (component) &lt;U1 &#x27;x&#x27; &#x27;y&#x27; &#x27;z&#x27;</pre><div class='xr-wrap' style='display:none'><div class='xr-header'><div class='xr-obj-type'>xarray.DataArray</div><div class='xr-array-name'>'predictions'</div><ul class='xr-dim-list'><li><span class='xr-has-index'>component</span>: 3</li><li><span class='xr-has-index'>time</span>: 1001</li></ul></div><ul class='xr-sections'><li class='xr-section-item'><div class='xr-array-wrap'><input id='section-9ff946be-db7d-4ae7-a92a-33a62b102b13' class='xr-array-in' type='checkbox' checked><label for='section-9ff946be-db7d-4ae7-a92a-33a62b102b13' title='Show/hide data repr'><svg class='icon xr-icon-database'><use xlink:href='#icon-database'></use></svg></label><div class='xr-array-preview xr-preview'><span>nan nan nan nan nan nan nan nan ... nan nan nan nan nan nan nan nan</span></div><div class='xr-array-data'><pre>array([[nan, nan, nan, ..., nan, nan, nan],\n",
       "       [nan, nan, nan, ..., nan, nan, nan],\n",
       "       [nan, nan, nan, ..., nan, nan, nan]], dtype=float32)</pre></div></div></li><li class='xr-section-item'><input id='section-2cc39f9a-c7e6-4d60-9c7f-3b308ecec3f0' class='xr-section-summary-in' type='checkbox'  checked><label for='section-2cc39f9a-c7e6-4d60-9c7f-3b308ecec3f0' class='xr-section-summary' >Coordinates: <span>(2)</span></label><div class='xr-section-inline-details'></div><div class='xr-section-details'><ul class='xr-var-list'><li class='xr-var-item'><div class='xr-var-name'><span class='xr-has-index'>time</span></div><div class='xr-var-dims'>(time)</div><div class='xr-var-dtype'>float32</div><div class='xr-var-preview xr-preview'>0.0 0.01 0.02 ... 9.98 9.99 10.0</div><input id='attrs-637189f9-7443-411e-bafd-f9253b21a982' class='xr-var-attrs-in' type='checkbox' disabled><label for='attrs-637189f9-7443-411e-bafd-f9253b21a982' title='Show/Hide attributes'><svg class='icon xr-icon-file-text2'><use xlink:href='#icon-file-text2'></use></svg></label><input id='data-1adfa0f5-d580-44af-b8dd-4a5362fd76fe' class='xr-var-data-in' type='checkbox'><label for='data-1adfa0f5-d580-44af-b8dd-4a5362fd76fe' title='Show/Hide data repr'><svg class='icon xr-icon-database'><use xlink:href='#icon-database'></use></svg></label><div class='xr-var-attrs'><dl class='xr-attrs'></dl></div><div class='xr-var-data'><pre>array([ 0.  ,  0.01,  0.02, ...,  9.98,  9.99, 10.  ], dtype=float32)</pre></div></li><li class='xr-var-item'><div class='xr-var-name'><span class='xr-has-index'>component</span></div><div class='xr-var-dims'>(component)</div><div class='xr-var-dtype'>&lt;U1</div><div class='xr-var-preview xr-preview'>&#x27;x&#x27; &#x27;y&#x27; &#x27;z&#x27;</div><input id='attrs-afe0a252-9aa9-4984-9418-7bfeda2cacce' class='xr-var-attrs-in' type='checkbox' disabled><label for='attrs-afe0a252-9aa9-4984-9418-7bfeda2cacce' title='Show/Hide attributes'><svg class='icon xr-icon-file-text2'><use xlink:href='#icon-file-text2'></use></svg></label><input id='data-453f9750-9983-4459-883f-368ba4e3a84c' class='xr-var-data-in' type='checkbox'><label for='data-453f9750-9983-4459-883f-368ba4e3a84c' title='Show/Hide data repr'><svg class='icon xr-icon-database'><use xlink:href='#icon-database'></use></svg></label><div class='xr-var-attrs'><dl class='xr-attrs'></dl></div><div class='xr-var-data'><pre>array([&#x27;x&#x27;, &#x27;y&#x27;, &#x27;z&#x27;], dtype=&#x27;&lt;U1&#x27;)</pre></div></li></ul></div></li><li class='xr-section-item'><input id='section-8ab97546-968e-40f9-9c15-9e6e817df520' class='xr-section-summary-in' type='checkbox'  ><label for='section-8ab97546-968e-40f9-9c15-9e6e817df520' class='xr-section-summary' >Indexes: <span>(2)</span></label><div class='xr-section-inline-details'></div><div class='xr-section-details'><ul class='xr-var-list'><li class='xr-var-item'><div class='xr-index-name'><div>time</div></div><div class='xr-index-preview'>PandasIndex</div><div></div><input id='index-8dc1a7f5-90a5-42be-9c8a-30a066767aa9' class='xr-index-data-in' type='checkbox'/><label for='index-8dc1a7f5-90a5-42be-9c8a-30a066767aa9' title='Show/Hide index repr'><svg class='icon xr-icon-database'><use xlink:href='#icon-database'></use></svg></label><div class='xr-index-data'><pre>PandasIndex(Index([                 0.0, 0.009999999776482582, 0.019999999552965164,\n",
       "       0.029999999329447746,  0.03999999910593033,  0.05000000074505806,\n",
       "        0.05999999865889549,  0.07000000029802322,  0.07999999821186066,\n",
       "        0.09000000357627869,\n",
       "       ...\n",
       "           9.90999984741211,    9.920000076293945,    9.930000305175781,\n",
       "            9.9399995803833,    9.949999809265137,    9.960000038146973,\n",
       "          9.970000267028809,    9.979999542236328,    9.989999771118164,\n",
       "                       10.0],\n",
       "      dtype=&#x27;float32&#x27;, name=&#x27;time&#x27;, length=1001))</pre></div></li><li class='xr-var-item'><div class='xr-index-name'><div>component</div></div><div class='xr-index-preview'>PandasIndex</div><div></div><input id='index-c18ae294-82cf-47ba-98a0-e80148f27fd6' class='xr-index-data-in' type='checkbox'/><label for='index-c18ae294-82cf-47ba-98a0-e80148f27fd6' title='Show/Hide index repr'><svg class='icon xr-icon-database'><use xlink:href='#icon-database'></use></svg></label><div class='xr-index-data'><pre>PandasIndex(Index([&#x27;x&#x27;, &#x27;y&#x27;, &#x27;z&#x27;], dtype=&#x27;object&#x27;, name=&#x27;component&#x27;))</pre></div></li></ul></div></li><li class='xr-section-item'><input id='section-80d76e83-b186-4b9d-82db-500dbf17eead' class='xr-section-summary-in' type='checkbox' disabled ><label for='section-80d76e83-b186-4b9d-82db-500dbf17eead' class='xr-section-summary'  title='Expand/collapse section'>Attributes: <span>(0)</span></label><div class='xr-section-inline-details'></div><div class='xr-section-details'><dl class='xr-attrs'></dl></div></li></ul></div></div>"
      ],
      "text/plain": [
       "<xarray.DataArray 'predictions' (component: 3, time: 1001)>\n",
       "array([[nan, nan, nan, ..., nan, nan, nan],\n",
       "       [nan, nan, nan, ..., nan, nan, nan],\n",
       "       [nan, nan, nan, ..., nan, nan, nan]], dtype=float32)\n",
       "Coordinates:\n",
       "  * time       (time) float32 0.0 0.01 0.02 0.03 0.04 ... 9.97 9.98 9.99 10.0\n",
       "  * component  (component) <U1 'x' 'y' 'z'"
      ]
     },
     "execution_count": 68,
     "metadata": {},
     "output_type": "execute_result"
    }
   ],
   "source": [
    "data[\"predictions\"]"
   ]
  },
  {
   "cell_type": "code",
   "execution_count": 69,
   "id": "7e60343c-2b15-4e56-807d-b34d99d38958",
   "metadata": {
    "tags": []
   },
   "outputs": [],
   "source": [
    "solver = dfx.Euler() #dfx.Tsit5() #  \n",
    "stepsize_controller = dfx.ConstantStepSize() #dfx.PIDController(rtol=1e-7, atol=1e-7)"
   ]
  },
  {
   "cell_type": "code",
   "execution_count": 104,
   "id": "5d87d304-a7f9-4631-874b-325290d888b7",
   "metadata": {
    "tags": []
   },
   "outputs": [],
   "source": [
    "def kf_update(y, Sigma_y, H, mu_u, Sigma_u, inv_alg=Auto()):\n",
    "    \n",
    "    # compute Kalman Gain\n",
    "    D = cola.ops.Dense(H @ Sigma_u.to_dense() @ H.T - Sigma_y.to_dense())\n",
    "    K = Sigma_u @ H @ cola.inv(D, alg=inv_alg)\n",
    "    K = cola.ops.Dense(K)\n",
    "    \n",
    "    # compute analysis\n",
    "    ua = mu_u + K @ (y - H @ mu_u)\n",
    "    P = cola.ops.I_like(Sigma_u) - K @ H @ Sigma_u\n",
    "    \n",
    "    return ua, P"
   ]
  },
  {
   "cell_type": "code",
   "execution_count": 102,
   "id": "b0b6ba8a-3c23-429b-9f72-2aa39f539024",
   "metadata": {
    "tags": []
   },
   "outputs": [
    {
     "name": "stdout",
     "output_type": "stream",
     "text": [
      "[[-2.  0.  0.]\n",
      " [ 0. -2.  0.]\n",
      " [ 0.  0. -2.]]\n",
      "[nan nan nan]\n"
     ]
    },
    {
     "data": {
      "text/plain": [
       "(3,)"
      ]
     },
     "execution_count": 102,
     "metadata": {},
     "output_type": "execute_result"
    }
   ],
   "source": [
    "ua, _ = kf_update(y, sigma_y, H, mu_u, sigma_x)\n",
    "ua.shape"
   ]
  },
  {
   "cell_type": "code",
   "execution_count": 70,
   "id": "829f4ec6-bd1c-4b21-838f-61cb7367fab8",
   "metadata": {},
   "outputs": [
    {
     "data": {
      "application/vnd.jupyter.widget-view+json": {
       "model_id": "16c3bfd6281a44b6a27755c9f208d73b",
       "version_major": 2,
       "version_minor": 0
      },
      "text/plain": [
       "0it [00:00, ?it/s]"
      ]
     },
     "metadata": {},
     "output_type": "display_data"
    }
   ],
   "source": [
    "for iteration, (itime, ids) in tqdm(enumerate(list(data.groupby(\"time\")))):\n",
    "    \n",
    "\n",
    "    if iteration == 0:\n",
    "        # use this as background state for next iteration\n",
    "        mu_u = ids.simulation.values\n",
    "        # continue the loop\n",
    "        continue\n",
    "    \n",
    "    # use previous background state to make prediction\n",
    "    u = L63State(\n",
    "        x=mu_u[0],\n",
    "        y=mu_u[1],\n",
    "        z=mu_u[2]\n",
    "    )\n",
    "\n",
    "    \n",
    "    itime = itime.astype(np.float64)\n",
    "    # do forward prediction\n",
    "    sol = dfx.diffeqsolve(\n",
    "        terms=dfx.ODETerm(l63_equation_of_motion),\n",
    "        t0=itime,\n",
    "        t1=itime + dt,\n",
    "        dt0=dt,\n",
    "        y0=u,\n",
    "        args=params,\n",
    "        solver=solver,\n",
    "        stepsize_controller=stepsize_controller,\n",
    "    )\n",
    "    # extract array from state\n",
    "    mu_u = sol.ys.to_array().squeeze()\n",
    "    \n",
    "    # if we dont have observations (do analysis)\n",
    "    y = ids.observations_noisy.values\n",
    "    \n",
    "    if np.sum(np.isnan(y)):\n",
    "        # if there are no observations no analysis\n",
    "        mu_a = mu_u.copy()\n",
    "    else:\n",
    "        # if there no observations - do analysis\n",
    "        mu_a = linear_3dvar_obs_space_incremental(y, H, sigma_y, mu_u, sigma_x)\n",
    "        \n",
    "    # if we do have observations (don't do analysis)\n",
    "    data[\"predictions\"][:, iteration] = mu_a\n",
    "    mu_u = mu_a.copy()"
   ]
  },
  {
   "cell_type": "code",
   "execution_count": 73,
   "id": "f3df7cb6-4d78-4dcc-9fd4-6d912b4364f1",
   "metadata": {
    "tags": []
   },
   "outputs": [
    {
     "data": {
      "image/png": "[encoded data removed]",
      "text/plain": [
       "<Figure size 1000x1000 with 3 Axes>"
      ]
     },
     "metadata": {},
     "output_type": "display_data"
    }
   ],
   "source": [
    "fig, ax = plt.subplots(nrows=3, figsize=(10, 10))\n",
    "\n",
    "# Plot Simulation Data\n",
    "data.simulation.sel(component=\"x\").plot(ax=ax[0], color=\"black\", label=\"True\")\n",
    "data.simulation.sel(component=\"y\").plot(ax=ax[1], color=\"black\", label=\"True\")\n",
    "data.simulation.sel(component=\"z\").plot(ax=ax[2], color=\"black\", label=\"True\")\n",
    "\n",
    "# plot Reanalysis Data\n",
    "data.predictions.sel(component=\"x\").plot(ax=ax[0], color=\"gray\", linestyle=\"--\", label=\"Renalysis\")\n",
    "data.predictions.sel(component=\"y\").plot(ax=ax[1], color=\"gray\", linestyle=\"--\", label=\"Renalysis\")\n",
    "data.predictions.sel(component=\"z\").plot(ax=ax[2], color=\"gray\", linestyle=\"--\", label=\"Renalysis\")\n",
    "\n",
    "\n",
    "data.observations_noisy.sel(component=\"x\").plot.scatter(ax=ax[0], zorder=3, color=\"black\", marker=\".\", s=200, label=\"Observations\")\n",
    "data.observations_noisy.sel(component=\"y\").plot.scatter(ax=ax[1], zorder=3, color=\"black\", marker=\".\", s=200, label=\"Observartions\")\n",
    "data.observations_noisy.sel(component=\"z\").plot.scatter(ax=ax[2], zorder=3, color=\"black\", marker=\".\", s=200, label=\"Observartions\")\n",
    "\n",
    "# Draw Observation Window\n",
    "ax[0].axvspan(0 + dt, t_max_obs, color=\"gray\", alpha=0.25, lw=0, label=\"Obs. window\")\n",
    "ax[1].axvspan(0 + dt, t_max_obs, color=\"gray\", alpha=0.25, lw=0, label=\"Obs. window\")\n",
    "ax[2].axvspan(0 + dt, t_max_obs, color=\"gray\", alpha=0.25, lw=0, label=\"Obs. window\")\n",
    "\n",
    "# Draw Background Window\n",
    "ax[0].axvspan(0, dt, color=\"black\", lw=3, zorder=5, label=\"Background\")\n",
    "ax[1].axvspan(0, dt, color=\"black\", lw=3, zorder=5, label=\"Background\")\n",
    "ax[2].axvspan(0, dt, color=\"black\", lw=3, zorder=5, label=\"Background\")\n",
    "\n",
    "# create Legend\n",
    "ax[0].legend(loc=\"center\", bbox_to_anchor=(0.5, 1.25), fontsize=14, ncols=5,)\n",
    "\n",
    "plt.tight_layout()\n",
    "plt.show()"
   ]
  },
  {
   "cell_type": "code",
   "execution_count": null,
   "id": "ee2c576e-a339-4bb7-99ed-e870ae1bb991",
   "metadata": {},
   "outputs": [],
   "source": []
  },
  {
   "cell_type": "code",
   "execution_count": null,
   "id": "39c9a42f-835c-4a1b-aa00-02c2127d3dab",
   "metadata": {},
   "outputs": [],
   "source": []
  }
 ],
 "metadata": {
  "kernelspec": {
   "display_name": "Python [conda env:jax_eo_py311]",
   "language": "python",
   "name": "conda-env-jax_eo_py311-py"
  },
  "language_info": {
   "codemirror_mode": {
    "name": "ipython",
    "version": 3
   },
   "file_extension": ".py",
   "mimetype": "text/x-python",
   "name": "python",
   "nbconvert_exporter": "python",
   "pygments_lexer": "ipython3",
   "version": "3.11.6"
  }
 },
 "nbformat": 4,
 "nbformat_minor": 5
}
